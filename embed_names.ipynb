{
 "cells": [
  {
   "cell_type": "code",
   "execution_count": 1,
   "id": "777ba78f",
   "metadata": {},
   "outputs": [],
   "source": [
    "import pandas as pd\n",
    "import numpy as np\n"
   ]
  },
  {
   "cell_type": "code",
   "execution_count": 2,
   "id": "77a948c6",
   "metadata": {},
   "outputs": [
    {
     "data": {
      "text/html": [
       "<div>\n",
       "<style scoped>\n",
       "    .dataframe tbody tr th:only-of-type {\n",
       "        vertical-align: middle;\n",
       "    }\n",
       "\n",
       "    .dataframe tbody tr th {\n",
       "        vertical-align: top;\n",
       "    }\n",
       "\n",
       "    .dataframe thead th {\n",
       "        text-align: right;\n",
       "    }\n",
       "</style>\n",
       "<table border=\"1\" class=\"dataframe\">\n",
       "  <thead>\n",
       "    <tr style=\"text-align: right;\">\n",
       "      <th></th>\n",
       "      <th>_id</th>\n",
       "      <th>itemId</th>\n",
       "      <th>itemMetadata</th>\n",
       "      <th>itemProfile</th>\n",
       "      <th>merchantId</th>\n",
       "    </tr>\n",
       "  </thead>\n",
       "  <tbody>\n",
       "    <tr>\n",
       "      <th>0</th>\n",
       "      <td>6813b2b5b7476b2ec454b7ff</td>\n",
       "      <td>442731c2-144b-4c5c-b81e-e0cf9dfa9630</td>\n",
       "      <td>{\"category_name\":\"Alimentos Básicos\",\"descript...</td>\n",
       "      <td>{\"metrics\":{\"avgBasketPrice\":159.89,\"coPurchas...</td>\n",
       "      <td>d6cf7b73-c9bb-4c8a-abd6-c1a832bdd461</td>\n",
       "    </tr>\n",
       "    <tr>\n",
       "      <th>1</th>\n",
       "      <td>6813b2b5b7476b2ec454b800</td>\n",
       "      <td>4a6d4a8f-c1bf-4457-a448-4a3b5e1eb20c</td>\n",
       "      <td>{\"category_name\":\"Doces e Sobremesas\",\"descrip...</td>\n",
       "      <td>{\"metrics\":{\"avgBasketPrice\":182.44,\"coPurchas...</td>\n",
       "      <td>d6cf7b73-c9bb-4c8a-abd6-c1a832bdd461</td>\n",
       "    </tr>\n",
       "    <tr>\n",
       "      <th>2</th>\n",
       "      <td>6813b2b5b7476b2ec454b801</td>\n",
       "      <td>5380e263-c202-45cf-8eae-81e54573f122</td>\n",
       "      <td>{\"category_name\":\"Higiene e Cuidados Pessoais\"...</td>\n",
       "      <td>{\"metrics\":{\"avgBasketPrice\":190.63,\"coPurchas...</td>\n",
       "      <td>d6cf7b73-c9bb-4c8a-abd6-c1a832bdd461</td>\n",
       "    </tr>\n",
       "    <tr>\n",
       "      <th>3</th>\n",
       "      <td>6813b2b5b7476b2ec454b802</td>\n",
       "      <td>595ce305-ddf5-49fc-9a8c-b50a9ccf6267</td>\n",
       "      <td>{\"category_name\":\"Higiene e Cuidados Pessoais\"...</td>\n",
       "      <td>{\"metrics\":{\"avgBasketPrice\":113.56,\"coPurchas...</td>\n",
       "      <td>d6cf7b73-c9bb-4c8a-abd6-c1a832bdd461</td>\n",
       "    </tr>\n",
       "    <tr>\n",
       "      <th>4</th>\n",
       "      <td>6813b2b5b7476b2ec454b803</td>\n",
       "      <td>5e2db3a9-1a2c-4462-8aa1-1ed045122e12</td>\n",
       "      <td>{\"category_name\":\"Pet Shop\",\"description\":\"• R...</td>\n",
       "      <td>{\"metrics\":{\"avgBasketPrice\":223.58,\"coPurchas...</td>\n",
       "      <td>d6cf7b73-c9bb-4c8a-abd6-c1a832bdd461</td>\n",
       "    </tr>\n",
       "  </tbody>\n",
       "</table>\n",
       "</div>"
      ],
      "text/plain": [
       "                        _id                                itemId  \\\n",
       "0  6813b2b5b7476b2ec454b7ff  442731c2-144b-4c5c-b81e-e0cf9dfa9630   \n",
       "1  6813b2b5b7476b2ec454b800  4a6d4a8f-c1bf-4457-a448-4a3b5e1eb20c   \n",
       "2  6813b2b5b7476b2ec454b801  5380e263-c202-45cf-8eae-81e54573f122   \n",
       "3  6813b2b5b7476b2ec454b802  595ce305-ddf5-49fc-9a8c-b50a9ccf6267   \n",
       "4  6813b2b5b7476b2ec454b803  5e2db3a9-1a2c-4462-8aa1-1ed045122e12   \n",
       "\n",
       "                                        itemMetadata  \\\n",
       "0  {\"category_name\":\"Alimentos Básicos\",\"descript...   \n",
       "1  {\"category_name\":\"Doces e Sobremesas\",\"descrip...   \n",
       "2  {\"category_name\":\"Higiene e Cuidados Pessoais\"...   \n",
       "3  {\"category_name\":\"Higiene e Cuidados Pessoais\"...   \n",
       "4  {\"category_name\":\"Pet Shop\",\"description\":\"• R...   \n",
       "\n",
       "                                         itemProfile  \\\n",
       "0  {\"metrics\":{\"avgBasketPrice\":159.89,\"coPurchas...   \n",
       "1  {\"metrics\":{\"avgBasketPrice\":182.44,\"coPurchas...   \n",
       "2  {\"metrics\":{\"avgBasketPrice\":190.63,\"coPurchas...   \n",
       "3  {\"metrics\":{\"avgBasketPrice\":113.56,\"coPurchas...   \n",
       "4  {\"metrics\":{\"avgBasketPrice\":223.58,\"coPurchas...   \n",
       "\n",
       "                             merchantId  \n",
       "0  d6cf7b73-c9bb-4c8a-abd6-c1a832bdd461  \n",
       "1  d6cf7b73-c9bb-4c8a-abd6-c1a832bdd461  \n",
       "2  d6cf7b73-c9bb-4c8a-abd6-c1a832bdd461  \n",
       "3  d6cf7b73-c9bb-4c8a-abd6-c1a832bdd461  \n",
       "4  d6cf7b73-c9bb-4c8a-abd6-c1a832bdd461  "
      ]
     },
     "execution_count": 2,
     "metadata": {},
     "output_type": "execute_result"
    }
   ],
   "source": [
    "data = pd.read_csv('./data/5k_items_curated.csv')\n",
    "data.head()"
   ]
  },
  {
   "cell_type": "code",
   "execution_count": 3,
   "id": "1e4dd5e2",
   "metadata": {},
   "outputs": [],
   "source": [
    "import json\n",
    "\n",
    "# First: convert the list of JSON strings into a list of actual Python dictionaries\n",
    "parsed_meta = [json.loads(item) for item in data[\"itemMetadata\"]]\n",
    "parsed_profile = [json.loads(item) for item in data[\"itemProfile\"]]"
   ]
  },
  {
   "cell_type": "code",
   "execution_count": 4,
   "id": "937e63d3",
   "metadata": {},
   "outputs": [],
   "source": [
    "data[\"name\"] = [item[\"name\"] for item in parsed_meta]"
   ]
  },
  {
   "cell_type": "code",
   "execution_count": 7,
   "id": "f4fb1948",
   "metadata": {},
   "outputs": [],
   "source": [
    "data[\"name\"].head(20)\n",
    "\n",
    "names = data[\"name\"].tolist()"
   ]
  },
  {
   "cell_type": "code",
   "execution_count": null,
   "id": "b49241f6",
   "metadata": {},
   "outputs": [],
   "source": [
    "from openai import OpenAI\n",
    "import numpy as np\n",
    "client = OpenAI(api_key=\"XXXXXXXXXXXXXXX\")\n",
    "\n",
    "\n",
    "def get_embedding(text):\n",
    "    response = client.embeddings.create(\n",
    "        input=text,\n",
    "        model=\"text-embedding-3-small\"\n",
    "    )\n",
    "    return response.data[0].embedding"
   ]
  },
  {
   "cell_type": "code",
   "execution_count": 14,
   "id": "13489ae1",
   "metadata": {},
   "outputs": [
    {
     "name": "stderr",
     "output_type": "stream",
     "text": [
      "Processing batches: 100%|██████████| 500/500 [04:11<00:00,  1.99it/s]\n"
     ]
    }
   ],
   "source": [
    "from tqdm import tqdm\n",
    "import numpy as np\n",
    "\n",
    "# Assuming get_embedding function is already defined somewhere in the notebook\n",
    "# Process names in batches to improve efficiency\n",
    "batch_size = 10\n",
    "name_embeddings = []\n",
    "\n",
    "for i in tqdm(range(0, len(names), batch_size), desc=\"Processing batches\"):\n",
    "    # Get the current batch\n",
    "    batch = names[i:i+batch_size]\n",
    "    response = client.embeddings.create(\n",
    "        input=batch,\n",
    "        model=\"text-embedding-3-small\"\n",
    "    )\n",
    "    batch_embeddings = [item.embedding for item in response.data]\n",
    "    # Extend the embeddings list\n",
    "    name_embeddings.extend(batch_embeddings)\n",
    "\n",
    "# Convert to numpy array for saving\n",
    "name_embeddings = np.array(name_embeddings)\n",
    "np.save('name_embeddings_openai_small.npy', name_embeddings)\n"
   ]
  },
  {
   "cell_type": "code",
   "execution_count": null,
   "id": "35f69cf0",
   "metadata": {},
   "outputs": [],
   "source": []
  }
 ],
 "metadata": {
  "kernelspec": {
   "display_name": "ml_env",
   "language": "python",
   "name": "python3"
  },
  "language_info": {
   "codemirror_mode": {
    "name": "ipython",
    "version": 3
   },
   "file_extension": ".py",
   "mimetype": "text/x-python",
   "name": "python",
   "nbconvert_exporter": "python",
   "pygments_lexer": "ipython3",
   "version": "3.12.2"
  }
 },
 "nbformat": 4,
 "nbformat_minor": 5
}
