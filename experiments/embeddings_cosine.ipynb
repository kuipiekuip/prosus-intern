{
 "cells": [
  {
   "cell_type": "code",
   "execution_count": 1,
   "id": "ef8c72d9",
   "metadata": {},
   "outputs": [],
   "source": [
    "import pandas as pd\n",
    "import numpy as np"
   ]
  },
  {
   "cell_type": "code",
   "execution_count": 2,
   "id": "e93e98dc",
   "metadata": {},
   "outputs": [],
   "source": [
    "data = pd.read_csv('cleaned_items_with_metadata.csv')\n",
    "queries_df = pd.read_csv('./data/queries.csv')\n",
    "\n",
    "item_texts = data[\"full_text\"].tolist()\n",
    "query_texts = queries_df[\"search_term_pt\"].tolist()\n"
   ]
  },
  {
   "cell_type": "code",
   "execution_count": 3,
   "id": "29d39a47",
   "metadata": {},
   "outputs": [
    {
     "data": {
      "application/vnd.jupyter.widget-view+json": {
       "model_id": "6a1eb9fec8454f8d892c78da788bd78c",
       "version_major": 2,
       "version_minor": 0
      },
      "text/plain": [
       "Batches:   0%|          | 0/79 [00:00<?, ?it/s]"
      ]
     },
     "metadata": {},
     "output_type": "display_data"
    },
    {
     "data": {
      "application/vnd.jupyter.widget-view+json": {
       "model_id": "0b2a9ebea9ed479abd12370cf55008c8",
       "version_major": 2,
       "version_minor": 0
      },
      "text/plain": [
       "Batches:   0%|          | 0/2 [00:00<?, ?it/s]"
      ]
     },
     "metadata": {},
     "output_type": "display_data"
    }
   ],
   "source": [
    "from sentence_transformers import SentenceTransformer\n",
    "\n",
    "model = SentenceTransformer('PORTULAN/serafim-100m-portuguese-pt-sentence-encoder')\n",
    "\n",
    "# Embed your texts\n",
    "item_embeddings = model.encode(item_texts, show_progress_bar=True, batch_size=64)\n",
    "query_embeddings = model.encode(query_texts, show_progress_bar=True, batch_size=64)\n"
   ]
  },
  {
   "cell_type": "code",
   "execution_count": null,
   "id": "87a6c031",
   "metadata": {},
   "outputs": [
    {
     "ename": "IndexError",
     "evalue": "invalid index to scalar variable.",
     "output_type": "error",
     "traceback": [
      "\u001b[0;31m---------------------------------------------------------------------------\u001b[0m",
      "\u001b[0;31mIndexError\u001b[0m                                Traceback (most recent call last)",
      "Cell \u001b[0;32mIn[39], line 1\u001b[0m\n\u001b[0;32m----> 1\u001b[0m \u001b[38;5;28mtype\u001b[39m(\u001b[43mitem_embeddings\u001b[49m\u001b[43m[\u001b[49m\u001b[38;5;241;43m0\u001b[39;49m\u001b[43m]\u001b[49m\u001b[43m[\u001b[49m\u001b[38;5;241;43m0\u001b[39;49m\u001b[43m]\u001b[49m\u001b[43m[\u001b[49m\u001b[38;5;241;43m0\u001b[39;49m\u001b[43m]\u001b[49m)\n",
      "\u001b[0;31mIndexError\u001b[0m: invalid index to scalar variable."
     ]
    }
   ],
   "source": [
    "item_embeddings[0]"
   ]
  },
  {
   "cell_type": "code",
   "execution_count": 32,
   "id": "6543abdb",
   "metadata": {},
   "outputs": [],
   "source": [
    "import numpy as np\n",
    "\n",
    "# `item_embeddings` is the result of model.encode(...)\n",
    "np.save(\"item_embeddings_serafim.npy\", item_embeddings)\n",
    "np.save(\"query_embeddings_serafim.npy\", query_embeddings)"
   ]
  },
  {
   "cell_type": "code",
   "execution_count": 5,
   "id": "3f71815e",
   "metadata": {},
   "outputs": [],
   "source": [
    "from sklearn.metrics.pairwise import cosine_similarity\n",
    "import numpy as np\n",
    "\n",
    "# (100 queries) x (5000 items) similarity matrix\n",
    "similarity_matrix = cosine_similarity(query_embeddings, item_embeddings)\n",
    "\n",
    "# For each query, get Top-3 indices of most similar items\n",
    "top_k = 5\n",
    "top_k_indices = np.argsort(-similarity_matrix, axis=1)[:, :top_k]\n"
   ]
  },
  {
   "cell_type": "code",
   "execution_count": 6,
   "id": "ef863ebc",
   "metadata": {},
   "outputs": [],
   "source": [
    "results = []\n",
    "\n",
    "for query_idx, item_idxs in enumerate(top_k_indices):\n",
    "    query_text = query_texts[query_idx]\n",
    "    matched_items = [item_texts[i] for i in item_idxs]\n",
    "    results.append({\n",
    "        \"query\": query_text,\n",
    "        \"top_k_results\": matched_items\n",
    "    })\n"
   ]
  },
  {
   "cell_type": "code",
   "execution_count": 7,
   "id": "af974bb5",
   "metadata": {},
   "outputs": [],
   "source": [
    "#based on the results get the resulting row of matched items in the original dataframe\n",
    "matched_rows = []\n",
    "for result in results:\n",
    "    query = result[\"query\"]\n",
    "    matched_items = result[\"top_k_results\"]\n",
    "    \n",
    "    for item in matched_items:\n",
    "        row = data[data[\"full_text\"] == item]\n",
    "        if not row.empty:\n",
    "            matched_rows.append(row.iloc[0].to_dict())\n",
    "\n",
    "        "
   ]
  },
  {
   "cell_type": "code",
   "execution_count": 8,
   "id": "36b09f1f",
   "metadata": {},
   "outputs": [],
   "source": [
    "import json\n",
    "test = json.loads(matched_rows[0][\"itemMetadata\"])"
   ]
  },
  {
   "cell_type": "code",
   "execution_count": 9,
   "id": "6724a931",
   "metadata": {},
   "outputs": [
    {
     "data": {
      "text/plain": [
       "{'category_name': 'Acompanhamentos',\n",
       " 'description': 'As nossas Batatas crocantes e irresistíveis, sempre levemente salgadas, servidas em nosso Balde especial! São o acompanhamento perfeito para dividir!',\n",
       " 'images': ['6e73dce2-a17f-4aef-9035-1409cea198fe/202401101007_16P0_i.jpg'],\n",
       " 'lacFree': False,\n",
       " 'name': 'Balde de Batata Frita',\n",
       " 'organic': False,\n",
       " 'price': 23.99,\n",
       " 'tags': [{'key': 'DIETARY_RESTRICTIONS', 'value': ['VEGETARIAN']},\n",
       "  {'key': 'PORTION_SIZE', 'value': ['SERVES_2']}],\n",
       " 'taxonomy': {'l0': 'ALIMENTOS_PREPARADOS',\n",
       "  'l1': 'PRATOS',\n",
       "  'l2': 'BATATAS_PREPARADAS'},\n",
       " 'vegan': False}"
      ]
     },
     "execution_count": 9,
     "metadata": {},
     "output_type": "execute_result"
    }
   ],
   "source": [
    "test"
   ]
  },
  {
   "cell_type": "code",
   "execution_count": 10,
   "id": "c35365da",
   "metadata": {},
   "outputs": [
    {
     "data": {
      "text/plain": [
       "[\"Pão de Forma 100% Nutrição Sabor Grãos Girassol E Castanha 58,6% de Cereais Integrais Wickbold  350g. Pacote 400g. Categoria: Padaria. Taxonomia: {'l0': 'MERCEARIA', 'l1': 'PAES', 'l2': 'PAO_DE_FORMA'}\",\n",
       " \"Pão de Forma 100% Nutrição Sabor Grãos Girassol E Castanha 58,6% de Cereais Integrais Wickbold  350g. Pacote 400g. Categoria: Padaria. Taxonomia: {'l0': 'MERCEARIA', 'l1': 'PAES', 'l2': 'PAO_DE_FORMA'}\",\n",
       " \"Pão de Forma Tradicional sem Casca Pullman 450g. Pacote 450g. Categoria: Padaria. Taxonomia: {'l0': 'MERCEARIA', 'l1': 'PAES', 'l2': 'PAO_DE_FORMA'}\",\n",
       " \"Pão Integral Freekeh & Nozes Wickbold 100% Nutrição Pacote 400g. Pacote 400g. Categoria: Padaria. Taxonomia: {'l0': 'MERCEARIA', 'l1': 'PAES', 'l2': 'PAO_DE_FORMA'}\",\n",
       " \"Pão Panutri 100% Integral Zero Açucar Integral 350g. Unidade 350g. Categoria: Padaria. Taxonomia: {'l0': 'MERCEARIA', 'l1': 'PAES', 'l2': 'PAO_DE_FORMA'}\"]"
      ]
     },
     "execution_count": 10,
     "metadata": {},
     "output_type": "execute_result"
    }
   ],
   "source": [
    "    index = 5\n",
    "    \n",
    "    matched_rows = []\n",
    "\n",
    "    query = results[index][\"query\"]\n",
    "    matched_items = results[index][\"top_k_results\"]\n",
    "    \n",
    "    for item in matched_items:\n",
    "        row = data[data[\"full_text\"] == item]\n",
    "        if not row.empty:\n",
    "            matched_rows.append(row.iloc[0].to_dict())\n",
    "\n",
    "    matched_items"
   ]
  },
  {
   "cell_type": "code",
   "execution_count": 11,
   "id": "e9280bcf",
   "metadata": {},
   "outputs": [
    {
     "data": {
      "text/plain": [
       "'Pão rústico do campo'"
      ]
     },
     "execution_count": 11,
     "metadata": {},
     "output_type": "execute_result"
    }
   ],
   "source": [
    "query"
   ]
  },
  {
   "cell_type": "code",
   "execution_count": null,
   "id": "a943a665",
   "metadata": {},
   "outputs": [],
   "source": [
    "from openai import OpenAI\n",
    "\n",
    "# Configure the Gemini client (OpenAI-compatible)\n",
    "client = OpenAI(\n",
    "    api_key=\"XXXXXXXX\",  # Replace with your actual Gemini API key\n",
    "    base_url=\"https://generativelanguage.googleapis.com/v1beta/openai/\"\n",
    ")\n",
    "\n",
    "# Reranking function\n",
    "def rerank_with_gemini(query, candidates):\n",
    "    candidate_text = \"\\n\".join([f\"{i+1}. {c}\" for i, c in enumerate(candidates)])\n",
    "    \n",
    "    prompt = f\"\"\"\n",
    "You are a smart food search assistant.\n",
    "\n",
    "Given a user query and a list of candidate food items, rank them from most to least relevant to the query.\n",
    "\n",
    "Query: \"{query}\"\n",
    "\n",
    "Candidate food items:\n",
    "{candidate_text}\n",
    "\n",
    "Only return the ranking in numeric order, like this: 2, 1, 3\n",
    "\"\"\"\n",
    "\n",
    "    response = client.chat.completions.create(\n",
    "        model=\"gemini-2.0-flash\",\n",
    "        messages=[\n",
    "            {\"role\": \"system\", \"content\": \"You are a helpful assistant that ranks food items based on query relevance.\"},\n",
    "            {\"role\": \"user\", \"content\": prompt}\n",
    "        ],\n",
    "        temperature=0.2\n",
    "    )\n",
    "\n",
    "    return response.choices[0].message.content.strip()\n",
    "\n"
   ]
  },
  {
   "cell_type": "code",
   "execution_count": 30,
   "id": "eeeb3a2c",
   "metadata": {},
   "outputs": [
    {
     "name": "stdout",
     "output_type": "stream",
     "text": [
      "Original order: [\"Pão de Forma 100% Nutrição Sabor Grãos Girassol E Castanha 58,6% de Cereais Integrais Wickbold  350g. Pacote 400g. Categoria: Padaria. Taxonomia: {'l0': 'MERCEARIA', 'l1': 'PAES', 'l2': 'PAO_DE_FORMA'}\", \"Pão de Forma 100% Nutrição Sabor Grãos Girassol E Castanha 58,6% de Cereais Integrais Wickbold  350g. Pacote 400g. Categoria: Padaria. Taxonomia: {'l0': 'MERCEARIA', 'l1': 'PAES', 'l2': 'PAO_DE_FORMA'}\", \"Pão de Forma Tradicional sem Casca Pullman 450g. Pacote 450g. Categoria: Padaria. Taxonomia: {'l0': 'MERCEARIA', 'l1': 'PAES', 'l2': 'PAO_DE_FORMA'}\", \"Pão Integral Freekeh & Nozes Wickbold 100% Nutrição Pacote 400g. Pacote 400g. Categoria: Padaria. Taxonomia: {'l0': 'MERCEARIA', 'l1': 'PAES', 'l2': 'PAO_DE_FORMA'}\", \"Pão Panutri 100% Integral Zero Açucar Integral 350g. Unidade 350g. Categoria: Padaria. Taxonomia: {'l0': 'MERCEARIA', 'l1': 'PAES', 'l2': 'PAO_DE_FORMA'}\"]\n",
      "New order: 4, 5, 1, 2, 3\n"
     ]
    }
   ],
   "source": [
    "new_rank = rerank_with_gemini(query, matched_items)\n",
    "print(f\"Original order: {matched_items}\")\n",
    "print(f\"New order: {new_rank}\")"
   ]
  },
  {
   "cell_type": "code",
   "execution_count": 31,
   "id": "24bf1e66",
   "metadata": {},
   "outputs": [
    {
     "name": "stdout",
     "output_type": "stream",
     "text": [
      "Reranked items: [\"Pão Integral Freekeh & Nozes Wickbold 100% Nutrição Pacote 400g. Pacote 400g. Categoria: Padaria. Taxonomia: {'l0': 'MERCEARIA', 'l1': 'PAES', 'l2': 'PAO_DE_FORMA'}\", \"Pão Panutri 100% Integral Zero Açucar Integral 350g. Unidade 350g. Categoria: Padaria. Taxonomia: {'l0': 'MERCEARIA', 'l1': 'PAES', 'l2': 'PAO_DE_FORMA'}\", \"Pão de Forma 100% Nutrição Sabor Grãos Girassol E Castanha 58,6% de Cereais Integrais Wickbold  350g. Pacote 400g. Categoria: Padaria. Taxonomia: {'l0': 'MERCEARIA', 'l1': 'PAES', 'l2': 'PAO_DE_FORMA'}\", \"Pão de Forma 100% Nutrição Sabor Grãos Girassol E Castanha 58,6% de Cereais Integrais Wickbold  350g. Pacote 400g. Categoria: Padaria. Taxonomia: {'l0': 'MERCEARIA', 'l1': 'PAES', 'l2': 'PAO_DE_FORMA'}\", \"Pão de Forma Tradicional sem Casca Pullman 450g. Pacote 450g. Categoria: Padaria. Taxonomia: {'l0': 'MERCEARIA', 'l1': 'PAES', 'l2': 'PAO_DE_FORMA'}\"]\n"
     ]
    }
   ],
   "source": [
    "reranked_items = [matched_items[int(i)-1] for i in new_rank.split(\",\")]\n",
    "print(f\"Reranked items: {reranked_items}\")"
   ]
  },
  {
   "cell_type": "code",
   "execution_count": null,
   "id": "5148a37b",
   "metadata": {},
   "outputs": [],
   "source": []
  }
 ],
 "metadata": {
  "kernelspec": {
   "display_name": "ml_env",
   "language": "python",
   "name": "python3"
  },
  "language_info": {
   "codemirror_mode": {
    "name": "ipython",
    "version": 3
   },
   "file_extension": ".py",
   "mimetype": "text/x-python",
   "name": "python",
   "nbconvert_exporter": "python",
   "pygments_lexer": "ipython3",
   "version": "3.12.2"
  }
 },
 "nbformat": 4,
 "nbformat_minor": 5
}
