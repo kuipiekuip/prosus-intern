{
 "cells": [
  {
   "cell_type": "code",
   "execution_count": 2,
   "id": "ef8c72d9",
   "metadata": {},
   "outputs": [],
   "source": [
    "import pandas as pd\n",
    "import numpy as np"
   ]
  },
  {
   "cell_type": "code",
   "execution_count": 3,
   "id": "e93e98dc",
   "metadata": {},
   "outputs": [],
   "source": [
    "data = pd.read_csv('cleaned_items_with_metadata.csv')\n",
    "queries_df = pd.read_csv('./data/queries.csv')\n",
    "\n",
    "item_texts = data[\"full_text\"].tolist()\n",
    "query_texts = queries_df[\"search_term_pt\"].tolist()\n"
   ]
  },
  {
   "cell_type": "code",
   "execution_count": 4,
   "id": "29d39a47",
   "metadata": {},
   "outputs": [
    {
     "data": {
      "application/vnd.jupyter.widget-view+json": {
       "model_id": "a0d5c5bb14a44b2a9314a5164b96aa96",
       "version_major": 2,
       "version_minor": 0
      },
      "text/plain": [
       "Batches:   0%|          | 0/79 [00:00<?, ?it/s]"
      ]
     },
     "metadata": {},
     "output_type": "display_data"
    },
    {
     "data": {
      "application/vnd.jupyter.widget-view+json": {
       "model_id": "849727b0a6964a34ac181a36ffba76c0",
       "version_major": 2,
       "version_minor": 0
      },
      "text/plain": [
       "Batches:   0%|          | 0/2 [00:00<?, ?it/s]"
      ]
     },
     "metadata": {},
     "output_type": "display_data"
    }
   ],
   "source": [
    "from sentence_transformers import SentenceTransformer\n",
    "\n",
    "model = SentenceTransformer('PORTULAN/serafim-100m-portuguese-pt-sentence-encoder')\n",
    "\n",
    "# Embed your texts\n",
    "item_embeddings = model.encode(item_texts, show_progress_bar=True, batch_size=64)\n",
    "query_embeddings = model.encode(query_texts, show_progress_bar=True, batch_size=64)\n"
   ]
  },
  {
   "cell_type": "code",
   "execution_count": 6,
   "id": "3f71815e",
   "metadata": {},
   "outputs": [],
   "source": [
    "import faiss\n",
    "import numpy as np\n",
    "\n",
    "# Convert embeddings to float32 (required by FAISS)\n",
    "item_embeddings = np.array(item_embeddings).astype(\"float32\")\n",
    "query_embeddings = np.array(query_embeddings).astype(\"float32\")\n"
   ]
  },
  {
   "cell_type": "code",
   "execution_count": 7,
   "id": "a943a665",
   "metadata": {},
   "outputs": [],
   "source": [
    "from sklearn.preprocessing import normalize\n",
    "import numpy as np\n",
    "\n",
    "item_embeddings = normalize(item_embeddings, axis=1)\n",
    "query_embeddings = normalize(query_embeddings, axis=1)\n",
    "\n",
    "# Convert to float32 for FAISS\n",
    "item_embeddings = item_embeddings.astype(\"float32\")\n",
    "query_embeddings = query_embeddings.astype(\"float32\")\n"
   ]
  },
  {
   "cell_type": "code",
   "execution_count": 8,
   "id": "f1dcacff",
   "metadata": {},
   "outputs": [],
   "source": [
    "import faiss\n",
    "\n",
    "dimension = item_embeddings.shape[1]  # 768 for Serafim\n",
    "index = faiss.IndexFlatIP(dimension)\n",
    "index.add(item_embeddings)  # adds all 5000 items\n"
   ]
  },
  {
   "cell_type": "code",
   "execution_count": 9,
   "id": "89c97e6c",
   "metadata": {},
   "outputs": [],
   "source": [
    "top_k = 3\n",
    "distances, indices = index.search(query_embeddings, top_k)\n"
   ]
  },
  {
   "cell_type": "code",
   "execution_count": 10,
   "id": "85640057",
   "metadata": {},
   "outputs": [],
   "source": [
    "results = []\n",
    "\n",
    "for i, query in enumerate(query_texts):\n",
    "    top_matches = []\n",
    "    for rank, (idx, score) in enumerate(zip(indices[i], distances[i]), 1):\n",
    "        top_matches.append({\n",
    "            \"rank\": rank,\n",
    "            \"item_text\": item_texts[idx],\n",
    "            \"score\": float(score)\n",
    "        })\n",
    "    results.append({\n",
    "        \"query\": query,\n",
    "        \"matches\": top_matches\n",
    "    })\n"
   ]
  },
  {
   "cell_type": "code",
   "execution_count": 11,
   "id": "949c0a43",
   "metadata": {},
   "outputs": [
    {
     "data": {
      "text/plain": [
       "{'query': 'Batatas fritas de rua carregadas',\n",
       " 'matches': [{'rank': 1,\n",
       "   'item_text': \"Balde de Batata Frita. As nossas Batatas crocantes e irresistíveis, sempre levemente salgadas, servidas em nosso Balde especial! São o acompanhamento perfeito para dividir!. Categoria: Acompanhamentos. Taxonomia: {'l0': 'ALIMENTOS_PREPARADOS', 'l1': 'PRATOS', 'l2': 'BATATAS_PREPARADAS'}. Tags: VEGETARIAN, SERVES_2\",\n",
       "   'score': 0.7015063166618347},\n",
       "  {'rank': 2,\n",
       "   'item_text': \"Batata Doce Branca. Compra por peso. Categoria: Feira. Taxonomia: {'l0': 'FLV', 'l1': 'LEGUMES', 'l2': 'BATATA_DOCE'}\",\n",
       "   'score': 0.697460949420929},\n",
       "  {'rank': 3,\n",
       "   'item_text': \"190 - porção de fritas. Categoria: Porções. Taxonomia: {'l0': 'ALIMENTOS_PREPARADOS', 'l1': 'PRATOS', 'l2': 'BATATAS_PREPARADAS'}. Tags: SERVES_3\",\n",
       "   'score': 0.6922088265419006}]}"
      ]
     },
     "execution_count": 11,
     "metadata": {},
     "output_type": "execute_result"
    }
   ],
   "source": [
    "results[0]"
   ]
  },
  {
   "cell_type": "code",
   "execution_count": null,
   "id": "bd74f9da",
   "metadata": {},
   "outputs": [],
   "source": []
  }
 ],
 "metadata": {
  "kernelspec": {
   "display_name": "ml_env",
   "language": "python",
   "name": "python3"
  },
  "language_info": {
   "codemirror_mode": {
    "name": "ipython",
    "version": 3
   },
   "file_extension": ".py",
   "mimetype": "text/x-python",
   "name": "python",
   "nbconvert_exporter": "python",
   "pygments_lexer": "ipython3",
   "version": "3.12.2"
  }
 },
 "nbformat": 4,
 "nbformat_minor": 5
}
