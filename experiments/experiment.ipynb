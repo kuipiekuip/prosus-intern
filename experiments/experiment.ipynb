{
 "cells": [
  {
   "cell_type": "code",
   "execution_count": 3,
   "id": "c2de95e0",
   "metadata": {},
   "outputs": [],
   "source": [
    "import numpy as np\n",
    "\n",
    "item_embeddings = np.load(\"item_embeddings_openai_small.npy\")\n",
    "query_embeddings = np.load(\"query_embeddings_openai_small.npy\")"
   ]
  },
  {
   "cell_type": "code",
   "execution_count": 4,
   "id": "84d99d14",
   "metadata": {},
   "outputs": [
    {
     "data": {
      "text/plain": [
       "(100, 1536)"
      ]
     },
     "execution_count": 4,
     "metadata": {},
     "output_type": "execute_result"
    }
   ],
   "source": [
    "query_embeddings.shape"
   ]
  },
  {
   "cell_type": "code",
   "execution_count": null,
   "id": "d0579d30",
   "metadata": {},
   "outputs": [],
   "source": [
    "ite"
   ]
  }
 ],
 "metadata": {
  "kernelspec": {
   "display_name": "ml_env",
   "language": "python",
   "name": "python3"
  },
  "language_info": {
   "codemirror_mode": {
    "name": "ipython",
    "version": 3
   },
   "file_extension": ".py",
   "mimetype": "text/x-python",
   "name": "python",
   "nbconvert_exporter": "python",
   "pygments_lexer": "ipython3",
   "version": "3.12.2"
  }
 },
 "nbformat": 4,
 "nbformat_minor": 5
}
