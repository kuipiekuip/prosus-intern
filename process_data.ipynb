{
 "cells": [
  {
   "cell_type": "code",
   "execution_count": 2,
   "id": "80d08a67",
   "metadata": {},
   "outputs": [],
   "source": [
    "import pandas as pd\n",
    "import numpy as np\n",
    "import ast"
   ]
  },
  {
   "cell_type": "code",
   "execution_count": 3,
   "id": "e52a9efb",
   "metadata": {},
   "outputs": [
    {
     "data": {
      "text/html": [
       "<div>\n",
       "<style scoped>\n",
       "    .dataframe tbody tr th:only-of-type {\n",
       "        vertical-align: middle;\n",
       "    }\n",
       "\n",
       "    .dataframe tbody tr th {\n",
       "        vertical-align: top;\n",
       "    }\n",
       "\n",
       "    .dataframe thead th {\n",
       "        text-align: right;\n",
       "    }\n",
       "</style>\n",
       "<table border=\"1\" class=\"dataframe\">\n",
       "  <thead>\n",
       "    <tr style=\"text-align: right;\">\n",
       "      <th></th>\n",
       "      <th>_id</th>\n",
       "      <th>itemId</th>\n",
       "      <th>itemMetadata</th>\n",
       "      <th>itemProfile</th>\n",
       "      <th>merchantId</th>\n",
       "    </tr>\n",
       "  </thead>\n",
       "  <tbody>\n",
       "    <tr>\n",
       "      <th>0</th>\n",
       "      <td>6813b2b5b7476b2ec454b7ff</td>\n",
       "      <td>442731c2-144b-4c5c-b81e-e0cf9dfa9630</td>\n",
       "      <td>{\"category_name\":\"Alimentos Básicos\",\"descript...</td>\n",
       "      <td>{\"metrics\":{\"avgBasketPrice\":159.89,\"coPurchas...</td>\n",
       "      <td>d6cf7b73-c9bb-4c8a-abd6-c1a832bdd461</td>\n",
       "    </tr>\n",
       "    <tr>\n",
       "      <th>1</th>\n",
       "      <td>6813b2b5b7476b2ec454b800</td>\n",
       "      <td>4a6d4a8f-c1bf-4457-a448-4a3b5e1eb20c</td>\n",
       "      <td>{\"category_name\":\"Doces e Sobremesas\",\"descrip...</td>\n",
       "      <td>{\"metrics\":{\"avgBasketPrice\":182.44,\"coPurchas...</td>\n",
       "      <td>d6cf7b73-c9bb-4c8a-abd6-c1a832bdd461</td>\n",
       "    </tr>\n",
       "    <tr>\n",
       "      <th>2</th>\n",
       "      <td>6813b2b5b7476b2ec454b801</td>\n",
       "      <td>5380e263-c202-45cf-8eae-81e54573f122</td>\n",
       "      <td>{\"category_name\":\"Higiene e Cuidados Pessoais\"...</td>\n",
       "      <td>{\"metrics\":{\"avgBasketPrice\":190.63,\"coPurchas...</td>\n",
       "      <td>d6cf7b73-c9bb-4c8a-abd6-c1a832bdd461</td>\n",
       "    </tr>\n",
       "    <tr>\n",
       "      <th>3</th>\n",
       "      <td>6813b2b5b7476b2ec454b802</td>\n",
       "      <td>595ce305-ddf5-49fc-9a8c-b50a9ccf6267</td>\n",
       "      <td>{\"category_name\":\"Higiene e Cuidados Pessoais\"...</td>\n",
       "      <td>{\"metrics\":{\"avgBasketPrice\":113.56,\"coPurchas...</td>\n",
       "      <td>d6cf7b73-c9bb-4c8a-abd6-c1a832bdd461</td>\n",
       "    </tr>\n",
       "    <tr>\n",
       "      <th>4</th>\n",
       "      <td>6813b2b5b7476b2ec454b803</td>\n",
       "      <td>5e2db3a9-1a2c-4462-8aa1-1ed045122e12</td>\n",
       "      <td>{\"category_name\":\"Pet Shop\",\"description\":\"• R...</td>\n",
       "      <td>{\"metrics\":{\"avgBasketPrice\":223.58,\"coPurchas...</td>\n",
       "      <td>d6cf7b73-c9bb-4c8a-abd6-c1a832bdd461</td>\n",
       "    </tr>\n",
       "  </tbody>\n",
       "</table>\n",
       "</div>"
      ],
      "text/plain": [
       "                        _id                                itemId  \\\n",
       "0  6813b2b5b7476b2ec454b7ff  442731c2-144b-4c5c-b81e-e0cf9dfa9630   \n",
       "1  6813b2b5b7476b2ec454b800  4a6d4a8f-c1bf-4457-a448-4a3b5e1eb20c   \n",
       "2  6813b2b5b7476b2ec454b801  5380e263-c202-45cf-8eae-81e54573f122   \n",
       "3  6813b2b5b7476b2ec454b802  595ce305-ddf5-49fc-9a8c-b50a9ccf6267   \n",
       "4  6813b2b5b7476b2ec454b803  5e2db3a9-1a2c-4462-8aa1-1ed045122e12   \n",
       "\n",
       "                                        itemMetadata  \\\n",
       "0  {\"category_name\":\"Alimentos Básicos\",\"descript...   \n",
       "1  {\"category_name\":\"Doces e Sobremesas\",\"descrip...   \n",
       "2  {\"category_name\":\"Higiene e Cuidados Pessoais\"...   \n",
       "3  {\"category_name\":\"Higiene e Cuidados Pessoais\"...   \n",
       "4  {\"category_name\":\"Pet Shop\",\"description\":\"• R...   \n",
       "\n",
       "                                         itemProfile  \\\n",
       "0  {\"metrics\":{\"avgBasketPrice\":159.89,\"coPurchas...   \n",
       "1  {\"metrics\":{\"avgBasketPrice\":182.44,\"coPurchas...   \n",
       "2  {\"metrics\":{\"avgBasketPrice\":190.63,\"coPurchas...   \n",
       "3  {\"metrics\":{\"avgBasketPrice\":113.56,\"coPurchas...   \n",
       "4  {\"metrics\":{\"avgBasketPrice\":223.58,\"coPurchas...   \n",
       "\n",
       "                             merchantId  \n",
       "0  d6cf7b73-c9bb-4c8a-abd6-c1a832bdd461  \n",
       "1  d6cf7b73-c9bb-4c8a-abd6-c1a832bdd461  \n",
       "2  d6cf7b73-c9bb-4c8a-abd6-c1a832bdd461  \n",
       "3  d6cf7b73-c9bb-4c8a-abd6-c1a832bdd461  \n",
       "4  d6cf7b73-c9bb-4c8a-abd6-c1a832bdd461  "
      ]
     },
     "execution_count": 3,
     "metadata": {},
     "output_type": "execute_result"
    }
   ],
   "source": [
    "data = pd.read_csv('./data/5k_items_curated.csv')\n",
    "data.head()"
   ]
  },
  {
   "cell_type": "code",
   "execution_count": 4,
   "id": "10876159",
   "metadata": {},
   "outputs": [
    {
     "data": {
      "text/plain": [
       "_id             object\n",
       "itemId          object\n",
       "itemMetadata    object\n",
       "itemProfile     object\n",
       "merchantId      object\n",
       "dtype: object"
      ]
     },
     "execution_count": 4,
     "metadata": {},
     "output_type": "execute_result"
    }
   ],
   "source": [
    "#get type of each column\n",
    "data.dtypes"
   ]
  },
  {
   "cell_type": "code",
   "execution_count": 5,
   "id": "c13746ba",
   "metadata": {},
   "outputs": [
    {
     "data": {
      "text/plain": [
       "['{\"category_name\":\"Alimentos Básicos\",\"description\":\"Pacote 500g\",\"images\":[\"820af392-002c-47b1-bfae-d7ef31743c7f/202210182253_3h93mu9eg9y.jpg\",\"820af392-002c-47b1-bfae-d7ef31743c7f/202210182253_06c38y2upker.jpg\"],\"lacFree\":false,\"name\":\"Macarrão Pena com Ovos Adria 500g\",\"organic\":false,\"price\":3.56,\"tags\":[{\"key\":\"PORTION_SIZE\",\"value\":[\"NOT_APPLICABLE\"]}],\"taxonomy\":{\"l0\":\"MERCEARIA\",\"l1\":\"MASSAS_SECAS\",\"l2\":\"MASSA_MACARRAO\"},\"vegan\":false}',\n",
       " '{\"category_name\":\"Doces e Sobremesas\",\"description\":\"Embalagem 200g\",\"images\":[],\"lacFree\":false,\"name\":\"Goplana Squares Pistache 200g\",\"organic\":false,\"price\":27.49,\"tags\":[{\"key\":\"PORTION_SIZE\",\"value\":[\"NOT_APPLICABLE\"]}],\"taxonomy\":{\"l0\":\"OUTROS\",\"l1\":\"OUTROS\",\"l2\":\"OUTROS\"},\"vegan\":false}',\n",
       " '{\"category_name\":\"Higiene e Cuidados Pessoais\",\"description\":\"Embalagem 350ml\",\"images\":[\"820af392-002c-47b1-bfae-d7ef31743c7f/202410181555_rb46kmje7n.jpeg\",\"820af392-002c-47b1-bfae-d7ef31743c7f/202410181555_wf48p9k1ofd.jpeg\"],\"lacFree\":false,\"name\":\"Creme para Pentear Boom Definição Intensa Seda 350ml\",\"organic\":false,\"price\":13.25,\"tags\":[{\"key\":\"PORTION_SIZE\",\"value\":[\"NOT_APPLICABLE\"]}],\"taxonomy\":{\"l0\":\"BELEZA_ESTETICA_HIGIENE_PESSOAL\",\"l1\":\"CUIDADOS_CABELO\",\"l2\":\"FINALIZADORES_MODELADORES\"},\"vegan\":false}',\n",
       " '{\"category_name\":\"Higiene e Cuidados Pessoais\",\"description\":\"Embalagem 200ml\",\"images\":[\"820af392-002c-47b1-bfae-d7ef31743c7f/202401151659_ijubkmovu1.jpeg\",\"820af392-002c-47b1-bfae-d7ef31743c7f/202401151659_hsg8c8jwb5u.jpeg\",\"820af392-002c-47b1-bfae-d7ef31743c7f/202401151659_0s7q18g3wucm.jpeg\"],\"lacFree\":false,\"name\":\"Desodorante Invisible For Black & White Aerosol Nivea 200ml Pague 150ml\",\"organic\":false,\"price\":17.32,\"tags\":[],\"taxonomy\":{\"l0\":\"BELEZA_ESTETICA_HIGIENE_PESSOAL\",\"l1\":\"HIGIENE_PESSOAL\",\"l2\":\"DESODORANTE\"},\"vegan\":false}',\n",
       " '{\"category_name\":\"Pet Shop\",\"description\":\"• Refeição 100% Completa.\\\\n• Sem conservantes, sem corantes e sem aromas artificiais..\\\\n• Suculentos pedacinhos cozidos a vapor.\\\\n• Balanço ideal de fibras.\\\\n• Proporciona fezes firmes e fáceis de limpar.\\\\n• Contribui para crescimento seguro e saudável.\\\\n• Fonte de cálcio e fósforo.\",\"images\":[\"820af392-002c-47b1-bfae-d7ef31743c7f/202411052013_xi2kzyur53q.jpeg\",\"820af392-002c-47b1-bfae-d7ef31743c7f/202411052013_4fw60p83gr.jpeg\",\"820af392-002c-47b1-bfae-d7ef31743c7f/202411052013_npkphkq1zhd.png\",\"820af392-002c-47b1-bfae-d7ef31743c7f/202411052013_j480sttom2o.jpeg\"],\"lacFree\":false,\"name\":\"Ração Úmida para Cães Filhotes Frango Ao Molho Pedigree 100g\",\"organic\":false,\"price\":4.07,\"tags\":[],\"taxonomy\":{\"l0\":\"PET\",\"l1\":\"RACAO_ALIMENTACAO\",\"l2\":\"ALIMENTACAO_CAES\"},\"vegan\":false}',\n",
       " '{\"category_name\":\"Molhos, Condimentos e Conservas\",\"description\":\"Embalagem 90g\",\"images\":[\"820af392-002c-47b1-bfae-d7ef31743c7f/202210202329_oegmlq73s6a.jpg\"],\"lacFree\":false,\"name\":\"Páprica Doce Defumada em Pó Sol Dos Andes 90g\",\"organic\":false,\"price\":10.49,\"tags\":[{\"key\":\"PORTION_SIZE\",\"value\":[\"NOT_APPLICABLE\"]}],\"taxonomy\":{\"l0\":\"MERCEARIA\",\"l1\":\"MOLHOS_CONDIMENTOS\",\"l2\":\"ERVAS_ESPECIARIAS\"},\"vegan\":false}',\n",
       " '{\"category_name\":\"Frios e Laticínios\",\"description\":\"\",\"images\":[\"820af392-002c-47b1-bfae-d7ef31743c7f/202404051104_dqre0cmrx6h.png\"],\"lacFree\":false,\"name\":\"Queijo Minas Padrão Fatiado Président 150g\",\"organic\":false,\"price\":14.76,\"tags\":[],\"taxonomy\":{\"l0\":\"FRIOS_LATICINIOS\",\"l1\":\"QUEIJOS\",\"l2\":\"QUEIJO_MINAS\"},\"vegan\":false}',\n",
       " '{\"category_name\":\"Alimentos Básicos\",\"description\":\"Pacote 1kg\",\"images\":[\"820af392-002c-47b1-bfae-d7ef31743c7f/202210182251_dzsfvclr3cb.jpg\"],\"lacFree\":false,\"name\":\"Arroz Solito 1kg Integral\",\"organic\":false,\"price\":8.12,\"tags\":[{\"key\":\"PORTION_SIZE\",\"value\":[\"NOT_APPLICABLE\"]}],\"taxonomy\":{\"l0\":\"MERCEARIA\",\"l1\":\"GRAOS_CEREAIS\",\"l2\":\"ARROZ\"},\"vegan\":false}',\n",
       " '{\"category_name\":\"Alimentos Básicos\",\"description\":\"Embalagem 150g\",\"images\":[\"820af392-002c-47b1-bfae-d7ef31743c7f/202210180110_usly40t3zc.jpg\"],\"lacFree\":false,\"name\":\"Farinha de Linhaça Marrom Integral Vitalin Embalagem 150g\",\"organic\":false,\"price\":22.02,\"tags\":[{\"key\":\"PORTION_SIZE\",\"value\":[\"NOT_APPLICABLE\"]}],\"taxonomy\":{\"l0\":\"MERCEARIA\",\"l1\":\"FARINACEOS_AMIDO\",\"l2\":\"FARINHA\"},\"vegan\":false}',\n",
       " '{\"category_name\":\"Congelados e Resfriados\",\"description\":\"Embalagem 360g\",\"images\":[\"820af392-002c-47b1-bfae-d7ef31743c7f/202306191350_nwq337zqhtf.jpg\"],\"lacFree\":false,\"name\":\"Hamburger de Costela Wessel 360g\",\"organic\":false,\"price\":24.84,\"tags\":[{\"key\":\"PORTION_SIZE\",\"value\":[\"NOT_APPLICABLE\"]}],\"taxonomy\":{\"l0\":\"ALIMENTOS_PREPARADOS\",\"l1\":\"PRATOS\",\"l2\":\"CORTES_BOVINOS\"},\"vegan\":false}']"
      ]
     },
     "execution_count": 5,
     "metadata": {},
     "output_type": "execute_result"
    }
   ],
   "source": [
    "data[\"itemMetadata\"].head(10).tolist()\n"
   ]
  },
  {
   "cell_type": "code",
   "execution_count": 6,
   "id": "8d4c208b",
   "metadata": {},
   "outputs": [],
   "source": [
    "import json\n",
    "\n",
    "# First: convert the list of JSON strings into a list of actual Python dictionaries\n",
    "parsed_meta = [json.loads(item) for item in data[\"itemMetadata\"]]\n",
    "parsed_profile = [json.loads(item) for item in data[\"itemProfile\"]]"
   ]
  },
  {
   "cell_type": "code",
   "execution_count": 7,
   "id": "9709e310",
   "metadata": {},
   "outputs": [
    {
     "name": "stdout",
     "output_type": "stream",
     "text": [
      "NaN values in itemMetadata: False\n",
      "NaN values in itemProfile: False\n"
     ]
    }
   ],
   "source": [
    "# check if there are any NaN values in the parsed data\n",
    "print(\"NaN values in itemMetadata:\", any(pd.isna(parsed_meta)))\n",
    "print(\"NaN values in itemProfile:\", any(pd.isna(parsed_profile)))"
   ]
  },
  {
   "cell_type": "code",
   "execution_count": 8,
   "id": "b2207eac",
   "metadata": {},
   "outputs": [
    {
     "data": {
      "text/plain": [
       "dict_keys(['category_name', 'description', 'images', 'lacFree', 'name', 'organic', 'price', 'tags', 'taxonomy', 'vegan'])"
      ]
     },
     "execution_count": 8,
     "metadata": {},
     "output_type": "execute_result"
    }
   ],
   "source": [
    "parsed_meta[0].keys()"
   ]
  },
  {
   "cell_type": "code",
   "execution_count": null,
   "id": "d5a79a64",
   "metadata": {},
   "outputs": [
    {
     "data": {
      "text/plain": [
       "{'category_name': 'Alimentos Básicos',\n",
       " 'description': 'Pacote 500g',\n",
       " 'images': ['820af392-002c-47b1-bfae-d7ef31743c7f/202210182253_3h93mu9eg9y.jpg',\n",
       "  '820af392-002c-47b1-bfae-d7ef31743c7f/202210182253_06c38y2upker.jpg'],\n",
       " 'lacFree': False,\n",
       " 'name': 'Macarrão Pena com Ovos Adria 500g',\n",
       " 'organic': False,\n",
       " 'price': 3.56,\n",
       " 'tags': [{'key': 'PORTION_SIZE', 'value': ['NOT_APPLICABLE']}],\n",
       " 'taxonomy': {'l0': 'MERCEARIA', 'l1': 'MASSAS_SECAS', 'l2': 'MASSA_MACARRAO'},\n",
       " 'vegan': False}"
      ]
     },
     "execution_count": 9,
     "metadata": {},
     "output_type": "execute_result"
    }
   ],
   "source": [
    "parsed_meta[4]"
   ]
  },
  {
   "cell_type": "code",
   "execution_count": 10,
   "id": "2a7e7081",
   "metadata": {},
   "outputs": [
    {
     "data": {
      "text/plain": [
       "'{\"metrics\":{\"avgBasketPrice\":159.89,\"coPurchaseItems\":[{\"gross_price\":4.79,\"item_description\":\"\",\"item_id\":\"815bf4a6-5478-4663-a4a9-e45b165f9928\",\"item_name\":\"Leite Uht Integral Italac 1l\",\"merchant_id\":\"d6cf7b73-c9bb-4c8a-abd6-c1a832bdd461\"},{\"gross_price\":15.0,\"item_description\":\"Embalagem 1un\",\"item_id\":\"95ad7643-9acb-48f6-a75c-f4bcffbf3784\",\"item_name\":\"Ovo Grande Vermelho C12 Carrefour\",\"merchant_id\":\"d6cf7b73-c9bb-4c8a-abd6-c1a832bdd461\"},{\"gross_price\":6.05,\"item_description\":\"Embalagem 170g\",\"item_id\":\"93e2ae19-990a-486f-b5b3-4c693ac19c1e\",\"item_name\":\"Atum Ralado Ao Natural Carrefour 170g\",\"merchant_id\":\"d6cf7b73-c9bb-4c8a-abd6-c1a832bdd461\"},{\"gross_price\":5.24,\"item_description\":\"\",\"item_id\":\"b7259e0f-34dd-445e-b550-ab4049df85b3\",\"item_name\":\"Leite Integral Uht Piracanjuba 1l\",\"merchant_id\":\"d6cf7b73-c9bb-4c8a-abd6-c1a832bdd461\"},{\"gross_price\":2.27,\"item_description\":\"Embalagem 300g\",\"item_id\":\"2e975f77-5fcc-43eb-9bf2-af1506b63d67\",\"item_name\":\"Molho de Tomate Sabor Manjericão Tarantella 300g\",\"merchant_id\":\"d6cf7b73-c9bb-4c8a-abd6-c1a832bdd461\"},{\"gross_price\":4.86,\"item_description\":\"Pacote 1kg\",\"item_id\":\"0e2121da-4517-421d-b668-7c8d215f074e\",\"item_name\":\"Sabão em Pó Ares Max Limpeza Pacote 1kg\",\"merchant_id\":\"d6cf7b73-c9bb-4c8a-abd6-c1a832bdd461\"},{\"gross_price\":9.99,\"item_description\":\"Embalagem 150g\",\"item_id\":\"d36d3e43-aa77-4d5d-9d9a-8abef95e1170\",\"item_name\":\"Queijo Mussarela Fatiado Président 150g\",\"merchant_id\":\"d6cf7b73-c9bb-4c8a-abd6-c1a832bdd461\"},{\"gross_price\":5.14,\"item_description\":\"\",\"item_id\":\"815bf4a6-5478-4663-a4a9-e45b165f9928\",\"item_name\":\"Leite Uht Integral Italac 1l\",\"merchant_id\":\"d6cf7b73-c9bb-4c8a-abd6-c1a832bdd461\"},{\"gross_price\":10.29,\"item_description\":\"\",\"item_id\":\"363a87d9-5e3f-4b38-85b1-e19ba86b89f1\",\"item_name\":\"Maionese Hellmann\\'s Tradicional 500g\",\"merchant_id\":\"d6cf7b73-c9bb-4c8a-abd6-c1a832bdd461\"},{\"gross_price\":1.91,\"item_description\":\"Embalagem 300g\",\"item_id\":\"eea91256-5d4b-4665-b77e-f844ca9292fb\",\"item_name\":\"Molho de Tomate Pomarola Sache 300g Tradicional\",\"merchant_id\":\"d6cf7b73-c9bb-4c8a-abd6-c1a832bdd461\"}],\"conversionRate\":5.33,\"customizations\":[],\"deliveryTime\":130.63,\"orderingRate\":{\"day\":{\"weekday\":0.56,\"weekend\":0.44},\"shift\":{\"breakfast\":0.25,\"dawn\":0.06,\"dinner\":0.31,\"lunch\":0.31,\"snack\":0.06}},\"preparationTime\":48.75,\"reorderRate\":0.0,\"total_orders\":16,\"voucherUsage\":1.0},\"search\":[{\"count\":2,\"method\":\"term\",\"term\":\"milk-shake\"},{\"count\":1,\"method\":\"suggestion\",\"term\":\"matizador\"},{\"count\":1,\"method\":\"term\",\"term\":\"sem glúten\"},{\"count\":1,\"method\":\"suggestion\",\"term\":\"bob\\'s\"},{\"count\":1,\"method\":\"suggestion\",\"term\":\"burger king\"},{\"count\":1,\"method\":\"term\",\"term\":\"ana maria\"},{\"count\":1,\"method\":\"suggestion\",\"term\":\"o burguês\"}]}'"
      ]
     },
     "execution_count": 10,
     "metadata": {},
     "output_type": "execute_result"
    }
   ],
   "source": [
    "data[\"itemProfile\"].iloc[0]"
   ]
  },
  {
   "cell_type": "code",
   "execution_count": 11,
   "id": "3a30923d",
   "metadata": {},
   "outputs": [],
   "source": [
    "def extract_tags(tag_list):\n",
    "    if not isinstance(tag_list, list):\n",
    "        return \"\"\n",
    "\n",
    "    extracted = []\n",
    "    for tag in tag_list:\n",
    "        values = tag.get(\"value\", [])\n",
    "        if isinstance(values, list):\n",
    "            # Filter out \"NOT_APPLICABLE\"\n",
    "            filtered = [v for v in values if v.upper() != \"NOT_APPLICABLE\"]\n",
    "            extracted.extend(filtered)\n",
    "    return \", \".join(extracted)\n",
    "\n",
    "\n",
    "def build_full_text(meta):\n",
    "    parts = []\n",
    "\n",
    "    name = meta.get(\"name\", \"\")\n",
    "    desc = meta.get(\"description\", \"\")\n",
    "    cat = meta.get(\"category_name\", \"\")\n",
    "    taxonomy = meta.get(\"taxonomy\", \"\")\n",
    "    tags = extract_tags(meta.get(\"tags\", []))\n",
    "\n",
    "    dietary = []\n",
    "    if meta.get(\"vegan\"):\n",
    "        dietary.append(\"vegano\")\n",
    "    if meta.get(\"organic\"):\n",
    "        dietary.append(\"orgânico\")\n",
    "    if meta.get(\"lacFree\"):\n",
    "        dietary.append(\"sem lactose\")\n",
    "\n",
    "    parts.extend([\n",
    "        name,\n",
    "        desc,\n",
    "        f\"Categoria: {cat}\",\n",
    "        f\"Taxonomia: {taxonomy}\",\n",
    "        f\"Tags: {tags}\" if tags else \"\",\n",
    "        f\"Características: {', '.join(dietary)}\" if dietary else \"\"\n",
    "    ])\n",
    "\n",
    "    return \". \".join([p for p in parts if p])\n"
   ]
  },
  {
   "cell_type": "code",
   "execution_count": 12,
   "id": "5d722929",
   "metadata": {},
   "outputs": [],
   "source": [
    "data[\"full_text\"] = [\n",
    "    build_full_text(meta)\n",
    "    for meta in parsed_meta\n",
    "]\n"
   ]
  },
  {
   "cell_type": "code",
   "execution_count": 13,
   "id": "47dc9e1a",
   "metadata": {},
   "outputs": [],
   "source": [
    "from collections import Counter\n",
    "\n",
    "tag_value_counter = Counter()\n",
    "\n",
    "for meta in parsed_meta:\n",
    "    tag_list = meta.get(\"tags\", [])\n",
    "    if isinstance(tag_list, list):\n",
    "        for tag in tag_list:\n",
    "            values = tag.get(\"value\", [])\n",
    "            if isinstance(values, list):\n",
    "                tag_value_counter.update(values)\n"
   ]
  },
  {
   "cell_type": "code",
   "execution_count": 14,
   "id": "0e3464bb",
   "metadata": {},
   "outputs": [
    {
     "data": {
      "text/plain": [
       "[\"Macarrão Pena com Ovos Adria 500g. Pacote 500g. Categoria: Alimentos Básicos. Taxonomia: {'l0': 'MERCEARIA', 'l1': 'MASSAS_SECAS', 'l2': 'MASSA_MACARRAO'}\",\n",
       " \"Goplana Squares Pistache 200g. Embalagem 200g. Categoria: Doces e Sobremesas. Taxonomia: {'l0': 'OUTROS', 'l1': 'OUTROS', 'l2': 'OUTROS'}\",\n",
       " \"Creme para Pentear Boom Definição Intensa Seda 350ml. Embalagem 350ml. Categoria: Higiene e Cuidados Pessoais. Taxonomia: {'l0': 'BELEZA_ESTETICA_HIGIENE_PESSOAL', 'l1': 'CUIDADOS_CABELO', 'l2': 'FINALIZADORES_MODELADORES'}\",\n",
       " \"Desodorante Invisible For Black & White Aerosol Nivea 200ml Pague 150ml. Embalagem 200ml. Categoria: Higiene e Cuidados Pessoais. Taxonomia: {'l0': 'BELEZA_ESTETICA_HIGIENE_PESSOAL', 'l1': 'HIGIENE_PESSOAL', 'l2': 'DESODORANTE'}\",\n",
       " \"Ração Úmida para Cães Filhotes Frango Ao Molho Pedigree 100g. • Refeição 100% Completa.\\n• Sem conservantes, sem corantes e sem aromas artificiais..\\n• Suculentos pedacinhos cozidos a vapor.\\n• Balanço ideal de fibras.\\n• Proporciona fezes firmes e fáceis de limpar.\\n• Contribui para crescimento seguro e saudável.\\n• Fonte de cálcio e fósforo.. Categoria: Pet Shop. Taxonomia: {'l0': 'PET', 'l1': 'RACAO_ALIMENTACAO', 'l2': 'ALIMENTACAO_CAES'}\",\n",
       " \"Páprica Doce Defumada em Pó Sol Dos Andes 90g. Embalagem 90g. Categoria: Molhos, Condimentos e Conservas. Taxonomia: {'l0': 'MERCEARIA', 'l1': 'MOLHOS_CONDIMENTOS', 'l2': 'ERVAS_ESPECIARIAS'}\",\n",
       " \"Queijo Minas Padrão Fatiado Président 150g. Categoria: Frios e Laticínios. Taxonomia: {'l0': 'FRIOS_LATICINIOS', 'l1': 'QUEIJOS', 'l2': 'QUEIJO_MINAS'}\",\n",
       " \"Arroz Solito 1kg Integral. Pacote 1kg. Categoria: Alimentos Básicos. Taxonomia: {'l0': 'MERCEARIA', 'l1': 'GRAOS_CEREAIS', 'l2': 'ARROZ'}\",\n",
       " \"Farinha de Linhaça Marrom Integral Vitalin Embalagem 150g. Embalagem 150g. Categoria: Alimentos Básicos. Taxonomia: {'l0': 'MERCEARIA', 'l1': 'FARINACEOS_AMIDO', 'l2': 'FARINHA'}\",\n",
       " \"Hamburger de Costela Wessel 360g. Embalagem 360g. Categoria: Congelados e Resfriados. Taxonomia: {'l0': 'ALIMENTOS_PREPARADOS', 'l1': 'PRATOS', 'l2': 'CORTES_BOVINOS'}\",\n",
       " \"Pão de Milho Seven Boys 450g. Pacote 500g. Categoria: Padaria. Taxonomia: {'l0': 'MERCEARIA', 'l1': 'PAES', 'l2': 'OUTROS'}\",\n",
       " \"Escova Dental Extra Clean Colgate 3un. Categoria: Higiene e Cuidados Pessoais. Taxonomia: {'l0': 'BELEZA_ESTETICA_HIGIENE_PESSOAL', 'l1': 'HIGIENE_BUCAL', 'l2': 'ESCOVA_DENTAL'}\",\n",
       " \"Quejo Mussarela Fatiado Classic Carrefour 150g. Embalagem 150g. Categoria: Frios e Laticínios. Taxonomia: {'l0': 'FRIOS_LATICINIOS', 'l1': 'QUEIJOS', 'l2': 'QUEIJO_MOZZARELLA'}\",\n",
       " \"Coxinha de Frango Congelada Carrefour 300g. Embalagem 300g. Categoria: Congelados e Resfriados. Taxonomia: {'l0': 'ALIMENTOS_PREPARADOS', 'l1': 'SALGADINHOS_APERITIVOS', 'l2': 'COXINHAS'}\",\n",
       " \"Escova de Dente Zig Zag Carvão Ativado Colgate 2un. Categoria: Higiene e Cuidados Pessoais. Taxonomia: {'l0': 'BELEZA_ESTETICA_HIGIENE_PESSOAL', 'l1': 'HIGIENE_BUCAL', 'l2': 'OUTROS'}\",\n",
       " \"Sopão de Carne com Legumes Maggi 200 g. Embalagem 200g. Categoria: Molhos, Condimentos e Conservas. Taxonomia: {'l0': 'ALIMENTOS_PREPARADOS', 'l1': 'PRATOS', 'l2': 'OUTROS'}\",\n",
       " \"Linguiça Calabresa Aperitivo Prieto Embalagem 500g. Embalagem 500g. Categoria: Carnes, Aves e Peixes. Taxonomia: {'l0': 'MERCEARIA', 'l1': 'OUTROS', 'l2': 'OUTROS'}\",\n",
       " \"Coxinha da Asa de Frango. Compra por peso. Categoria: Carnes, Aves e Peixes. Taxonomia: {'l0': 'ALIMENTOS_PREPARADOS', 'l1': 'PRATOS', 'l2': 'CORTES_DE_AVES'}\",\n",
       " \"Desinfetante Perfumado Lavanda Pinho Sol Com 500ml. Embalagem 500ml. Categoria: Limpeza. Taxonomia: {'l0': 'CASA_DECORACAO', 'l1': 'LIMPEZA_CASA', 'l2': 'PRODUTOS_LIMPEZA_CASA'}\",\n",
       " \"Lápis Gráfite Bic Evolution Hexagonal com Borracha Embalagem 4 Un. Embalagem 4un. Categoria: Papelaria e Livros. Taxonomia: {'l0': 'PAPELARIA_LIVRARIA', 'l1': 'ESCREVER_COLORIR', 'l2': 'OUTROS'}\",\n",
       " \"Biscoito Morango e Cereais Nestlé Nesfit 160g. Embalagem 160g. Categoria: Biscoitos e Salgadinhos. Taxonomia: {'l0': 'MERCEARIA', 'l1': 'BISCOITOS_SNACKS', 'l2': 'BISCOITOS'}\",\n",
       " \"Manteiga Extra com Sal Tablete Carrefour 200g. Embalagem 200g. Categoria: Frios e Laticínios. Taxonomia: {'l0': 'FRIOS_LATICINIOS', 'l1': 'OUTROS', 'l2': 'OUTROS'}\",\n",
       " \"McChicken Duplo. Composto por dois empanados com frango, maionese, alface americana e pão com gergelim. Categoria: Sanduiches. Taxonomia: {'l0': 'ALIMENTOS_PREPARADOS', 'l1': 'SANDUICHES', 'l2': 'HAMBURGUERES'}\",\n",
       " \"Tábua de Calabresa e Carne + 1 Acompanhamento. Carne em tiras (240g in natura) e calabresa fatiada (280g in natura) + 1 acompanhamento.\\n Escolha seu acompanhamento preferido: fritas (280g in natura), mandioca (400g in natura) ou polenta (400g in natura)\\n\\nEscolha também molho para acompanhar: barbecue (70g), ranch (70g) ou maionese c/ ervas (70g). Categoria: Porções e Tábuas. Taxonomia: {'l0': 'ALIMENTOS_PREPARADOS', 'l1': 'PRATOS', 'l2': 'CORTES_BOVINOS'}. Tags: SERVES_2\",\n",
       " \"Refresco Limão sem Açúcar Del Valle Fresh Garrafa 1,5l. Embalagem 1,5l. Categoria: Bebidas. Taxonomia: {'l0': 'BEBIDAS', 'l1': 'REFRIGERANTES', 'l2': 'REFRIGERANTE_LIMAO'}. Tags: FROSTY\",\n",
       " 'Omelete de frios. Marmitex: Omelete recheada (com Queijo mussarela, Presunto e Orégano), Arroz branquinho \"Broto legal\", Feijão carioquinha\"Broto Legal\" farofa,Macarrão ao alho e óleo e abobrinha refogada.. Categoria: Marmitas. Taxonomia: {\\'l0\\': \\'ALIMENTOS_PREPARADOS\\', \\'l1\\': \\'PRATOS\\', \\'l2\\': \\'OMELETES\\'}',\n",
       " \"Big White Sauce. Pão de hambúrguer com gergelim delicioso molho da casa a base de parmesão com carne artesanal suculenta de 130g com requeijão e queijo mussarela derretido. Categoria: Lanches individuais. Taxonomia: {'l0': 'ALIMENTOS_PREPARADOS', 'l1': 'SANDUICHES', 'l2': 'HAMBURGUERES'}\",\n",
       " \"Bento Shimeji. Arroz japonês, 200 gramas de shimeji, salada sunomono, 1 harumaki queijo, 1 harumaki legumes. Categoria: Teppanyaki E Bento. Taxonomia: {'l0': 'ALIMENTOS_PREPARADOS', 'l1': 'PRATOS', 'l2': 'OUTROS'}\",\n",
       " \"Copo Brigadeiro Dou e Morangos. Copo Brigadeiro Dou e Morangos\\nPrepare seu coração: Brigadeiro de Ninho e Brigadeiro de cacau 50%, mega cremosos, morangos frescos e o nosso brownie com a qualidade que vocês já conhecem!. Serve 1 pessoa\\nCopo de 250 ml\\n\\nTags \\n\\n#copodafelicidade #brigadeiro #brownie #Ninho #morango #fretegratis. Categoria: Copos Da Felicidade. Taxonomia: {'l0': 'ALIMENTOS_PREPARADOS', 'l1': 'SOBREMESAS', 'l2': 'COPOS_FELICIDADE'}. Tags: SERVES_1\",\n",
       " \"Mini enroladinho de frango com requeijaodeliciosa. Enroladinho de frango com requeijão. Categoria: Mini assado unidade. Taxonomia: {'l0': 'ALIMENTOS_PREPARADOS', 'l1': 'SALGADINHOS_APERITIVOS', 'l2': 'ENROLADINHOS'}\",\n",
       " \"Coca cola tradicional 350ml. Categoria: Bebidas lata. Taxonomia: {'l0': 'BEBIDAS', 'l1': 'REFRIGERANTES', 'l2': 'REFRIGERANTE_COLA'}\",\n",
       " \"MÉDIA 2 SABORES (8 PEDAÇOS). Categoria: Pizza Salgada 8 Pedaços. Taxonomia: {'l0': 'ALIMENTOS_PREPARADOS', 'l1': 'PIZZAS', 'l2': 'PIZZAS'}. Tags: MÉDIA\",\n",
       " \"Copo 770ml. Escolha 1 a 5 adicionais da sua preferencia sem custo.. Categoria: Açai. Taxonomia: {'l0': 'ALIMENTOS_PREPARADOS', 'l1': 'SORVETES_ACAIS_FRUTAS', 'l2': 'ACAIS'}\",\n",
       " \"Coca-Cola Original 350ml. Lata 350ml. Categoria: Refrigerantes. Taxonomia: {'l0': 'BEBIDAS', 'l1': 'REFRIGERANTES', 'l2': 'REFRIGERANTE_COLA'}\",\n",
       " \"Pizzas Doce 20cm (4 fatias) 2 Sabores. Seja o engenheiro e escolha seus sabores preferidos para se deliciar com nossas Pizzas Doce super Saborosas !!. Categoria: Pizzas com 2 Sabores da sua Escolha!. Taxonomia: {'l0': 'ALIMENTOS_PREPARADOS', 'l1': 'PIZZAS', 'l2': 'PIZZAS'}\",\n",
       " \"Pizza Promo. Brócolis c/ Catupiry e Bacon. Pizza de 8 pedaços com base de molho de tomate caseiro, pedaços de brócolis  coberto com requeijão cremoso e bacon!. Categoria: Pizzas Promocionais!. Taxonomia: {'l0': 'ALIMENTOS_PREPARADOS', 'l1': 'PIZZAS', 'l2': 'PIZZAS'}. Tags: SERVES_4\",\n",
       " \"Coca Cola Descartável. 2,5 litros. Categoria: Não vendemos só refri. Taxonomia: {'l0': 'BEBIDAS', 'l1': 'REFRIGERANTES', 'l2': 'REFRIGERANTE_COLA'}\",\n",
       " \"Marmita P Tilápia grelhada c/ Mix de Legumes. Tamanho P\\nacompanha: arroz, feijão, farofa e legumes\\n**Imagem Ilusatrativa***. Categoria: **Exclusivos da Casa**. Taxonomia: {'l0': 'ALIMENTOS_PREPARADOS', 'l1': 'PRATOS', 'l2': 'PEIXES_FRUTOS_DO_MAR'}\",\n",
       " \"Unicórnio - 500ml. Sorvete que lembra a infância! Dois sabores de massa: Céu Azul e Chiclete, recheado com Trufa de Leitinho. Delicioso, colorido e divertido!. Categoria: Sorvete de Massa - 500ml. Taxonomia: {'l0': 'ALIMENTOS_PREPARADOS', 'l1': 'SORVETES_ACAIS_FRUTAS', 'l2': 'SORVETES'}\",\n",
       " 'Tablete ao Leite Chocoarte Gratidão 40g. Chocoarte decorado artesanalmente com a palavra \"gratidão\". Ótima opção para presentear ou compor cestas!. Categoria: Lembranças. Taxonomia: {\\'l0\\': \\'BOMBONIERE\\', \\'l1\\': \\'CHOCOLATES\\', \\'l2\\': \\'BARRAS\\'}',\n",
       " \"Ovo de Páscoa ao Leite Meninas Superpoderosas Pelúcia Lindinha 170g. Ovo de chocolate ao leite com drageados crocantes e pelúcia exclusiva da Lindinha. A Páscoa mais doce e divertida para os fãs das Meninas Superpoderosas!. Categoria: Páscoa Infantil. Taxonomia: {'l0': 'BOMBONIERE', 'l1': 'CHOCOLATES', 'l2': 'OVOS_DE_PASCOA'}\",\n",
       " \"Sprite 350 ml. Categoria: Refrigerantes lata. Taxonomia: {'l0': 'BEBIDAS', 'l1': 'REFRIGERANTES', 'l2': 'REFRIGERANTE_LIMAO'}\",\n",
       " \"Bolo de Pote Nutellino. Bolo de Pote caseiro, feito com duas camadas de bolo de leite, com recheio e cobertura deliciosa de creme nutellino. Imagem meramente ilustrativa.. Categoria: Bolo de Pote da Vó. Taxonomia: {'l0': 'ALIMENTOS_PREPARADOS', 'l1': 'BOLOS_TORTAS_FONDUES', 'l2': 'BOLOS'}. Tags: SERVES_1\",\n",
       " \"Refrigerante Zero Pepsi 350ml. Lata 350ml. Categoria: Bebidas. Taxonomia: {'l0': 'BEBIDAS', 'l1': 'REFRIGERANTES', 'l2': 'REFRIGERANTE_COLA'}\",\n",
       " \"Ondansetrona 8mg Medley Genérico Caixa com 10 Comprimidos. Caixa 10cpr. Categoria: Medicamentos. Taxonomia: {'l0': 'SAUDE_E_BEM_ESTAR', 'l1': 'MEDICAMENTOS', 'l2': 'ALOPATICOS'}\",\n",
       " \"Soro Fisiologico Ever Care 500ml. Embalagem 500ml. Categoria: Primeiros Socorros. Taxonomia: {'l0': 'SAUDE_E_BEM_ESTAR', 'l1': 'PRIMEIROS_SOCORROS', 'l2': 'SORO_FISIOLOGICO'}\",\n",
       " \"Repelente Extrême com Icaridina Aerosol Exposis 100ml. Embalagem 100ml. Categoria: Cuidados com a Pele. Taxonomia: {'l0': 'BELEZA_ESTETICA_HIGIENE_PESSOAL', 'l1': 'CUIDADOS_PELE', 'l2': 'REPELENTES'}\",\n",
       " \"Coca Cola Zero Lata 350ml. Lata 350ml. Categoria: Bebidas. Taxonomia: {'l0': 'MERCEARIA', 'l1': 'BISCOITOS_SNACKS', 'l2': 'BISCOITOS'}\",\n",
       " \"Cenoura com Brigadeiro. Bolo de Cenoura com Brigadeiro ao leite super cremoso  finalizado com brigadeiros boleados e farelos de bolo de cenoura.. Categoria: Ovos de Colher. Taxonomia: {'l0': 'ALIMENTOS_PREPARADOS', 'l1': 'BOLOS_TORTAS_FONDUES', 'l2': 'BOLOS'}\",\n",
       " \"Kit Pop Shampoo 700ml + Condicionador 250ml + Perfume 120ml Pet Clean. Kit 3un. Categoria: Higiene e Limpeza. Taxonomia: {'l0': 'BELEZA_ESTETICA_HIGIENE_PESSOAL', 'l1': 'CUIDADOS_CABELO', 'l2': 'KITS_DE_SHAMPOO_CONDICIONADOR'}\",\n",
       " \"Ganadol 50g. Embalagem 50g. Categoria: Farmácia Veterinária. Taxonomia: {'l0': 'PET', 'l1': 'HIGIENE_LIMPEZA_PET', 'l2': 'ACESSORIOS_BANHO_TOSA_PET'}\",\n",
       " \"Ração Vet Life Natural Gastro-Intestinal para Cães Adultos com Distúrbios Intestinais Farmina 2kg. Embalagem 2kg. Categoria: Cães. Taxonomia: {'l0': 'PET', 'l1': 'RACAO_ALIMENTACAO', 'l2': 'ALIMENTACAO_CAES'}\",\n",
       " \"Tilápia a Moda. 700 gramas de tilápia. Acompanha arroz, salada e purê\\nServe 2 pessoas. Categoria: Pratos. Taxonomia: {'l0': 'ALIMENTOS_PREPARADOS', 'l1': 'PRATOS', 'l2': 'PEIXES_FRUTOS_DO_MAR'}\",\n",
       " \"Skimo picolé. Categoria: Picolés Premiums. Taxonomia: {'l0': 'ALIMENTOS_PREPARADOS', 'l1': 'SORVETES_ACAIS_FRUTAS', 'l2': 'SORVETES'}\",\n",
       " \"Costela Geléião + porção individual + refri lata. Pão brioche, hamburger costela 120g, queijo cheddar em fatia, geléia de pimenta queensberry e fatias de bacon.. Categoria: *** Campeões de Vendas ***. Taxonomia: {'l0': 'ALIMENTOS_PREPARADOS', 'l1': 'SANDUICHES', 'l2': 'HAMBURGUERES'}\",\n",
       " \"Casquinha de Siri. Categoria: Casquinha. Taxonomia: {'l0': 'ALIMENTOS_PREPARADOS', 'l1': 'OUTROS', 'l2': 'OUTROS'}\",\n",
       " \"Alcatra do Agreste com Baião de Dois. Simples, diferente e surpreendente...tudo ao mesmo tempo!\\n\\nTiras de Carne (Miolo de Alcatra) regada com Melaço de Cana e Amendoim crocante, combrindo nosso conhecido Baião De Dois (arroz com feijão de corda verde, bacon, calabresa, carne seca, manteiga de garrafa, queijo coalho e toque de coentro). Categoria: Os Queridinhos e mais bem avaliados!. Taxonomia: {'l0': 'ALIMENTOS_PREPARADOS', 'l1': 'PRATOS', 'l2': 'BAIAO_DE_DOIS'}. Tags: SERVES_1\",\n",
       " \"Guaraná Xereta 2l. Garrafa 2l. Categoria: Bebidas. Taxonomia: {'l0': 'BEBIDAS', 'l1': 'REFRIGERANTES', 'l2': 'REFRIGERANTE_GUARANA'}. Tags: FROSTY\",\n",
       " \"Caesar Wrap Peq. Frango grelhado, muçarela\\nde búfala, tomate, parmesão,\\ncroutons da casa e alface.\\n(caso queira modificar seu wrap, se direcione para a categoria monte o seu wrap.). Categoria: Wraps Pequenos. Taxonomia: {'l0': 'ALIMENTOS_PREPARADOS', 'l1': 'CREPES_PANQUECAS_WRAPS_TAPIOCAS', 'l2': 'WRAPS'}\",\n",
       " \"Outros. Coca 600 ml $7,00\\n Refrigerante Caçulinha 3,00\\nItubaina 500 ml 5,00\\nÁgua 510 ml $ 3,00\\nÁgua 1,5 l 5,00\\nÁgua com gás $ 4,00. Categoria: Bebidas. Taxonomia: {'l0': 'BEBIDAS', 'l1': 'AGUAS_AGUAS_DE_COCO', 'l2': 'OUTROS'}\",\n",
       " \"Refrigerante Coca-Cola 2l. Garrafa 2l. Categoria: Bebidas. Taxonomia: {'l0': 'BEBIDAS', 'l1': 'REFRIGERANTES', 'l2': 'REFRIGERANTE_COLA'}\",\n",
       " \"Sanduíche Quente de Frango Desfiado. Frango desfiado, cream cheese, queijo mussarela, alface, rúcula, cebola roxa, tomate e molho no pão ciabatta\\n(355g). Categoria: Lanches Saudáveis. Taxonomia: {'l0': 'ALIMENTOS_PREPARADOS', 'l1': 'SANDUICHES', 'l2': 'SANDUICHES_NATURAIS'}\",\n",
       " \"Coca-Cola zero 350ml. Coca-Cola zero 350ml. Categoria: Bebidas. Taxonomia: {'l0': 'BEBIDAS', 'l1': 'REFRIGERANTES', 'l2': 'REFRIGERANTE_COLA'}\",\n",
       " \"Coca-Cola zero 2l. Coca-Cola zero 2l. Categoria: Bebidas. Taxonomia: {'l0': 'BEBIDAS', 'l1': 'REFRIGERANTES', 'l2': 'REFRIGERANTE_COLA'}\",\n",
       " \"Feijoada completa média. Feijoada completa, acompanha arroz, couve, farofa, vinagrete, laranja e torresmo.\\n\\nAcompanhamentos enviados separadamente, cada um em sua embalagem.. Categoria: Almoço. Taxonomia: {'l0': 'ALIMENTOS_PREPARADOS', 'l1': 'PRATOS', 'l2': 'FEIJOADAS'}\",\n",
       " \"Vitanol a com 30g de Creme 0,5mg. Unidade 1un. Categoria: Suplementos e Vitaminas. Taxonomia: {'l0': 'BELEZA_ESTETICA_HIGIENE_PESSOAL', 'l1': 'CUIDADOS_PELE', 'l2': 'DERMOCOSMETICOS'}\",\n",
       " \"Óleo Mineral Adv Farma com 100ml. Caixa 100ml. Categoria: Medicamentos. Taxonomia: {'l0': 'SAUDE_E_BEM_ESTAR', 'l1': 'MEDICAMENTOS', 'l2': 'ALOPATICOS'}\",\n",
       " \"Advil Ibuprofeno 400mg Caixa com 8 Cápsulas. Categoria: Medicamentos. Taxonomia: {'l0': 'SAUDE_E_BEM_ESTAR', 'l1': 'MEDICAMENTOS', 'l2': 'ALOPATICOS'}\",\n",
       " \"Alisante Guanidina Regular Salon Line 218g. Embalagem 218g. Categoria: Cuidados com o Cabelo. Taxonomia: {'l0': 'BELEZA_ESTETICA_HIGIENE_PESSOAL', 'l1': 'CUIDADOS_CABELO', 'l2': 'HIDRATACAO_TRATAMENTO_CAPILAR'}\",\n",
       " \"Diminut Libbs Caixa 21 Comprimidos Revestidos. Caixa 21cpr. Categoria: Medicamentos. Taxonomia: {'l0': 'SAUDE_E_BEM_ESTAR', 'l1': 'MEDICAMENTOS', 'l2': 'ALOPATICOS'}\",\n",
       " \"Adoçante Zero Cal Sucralose Embalagem 100ml 50% Na Segunda Embalagem. Embalagem 100ml. Categoria: Conveniência. Taxonomia: {'l0': 'MERCEARIA', 'l1': 'ACUCARES_ADOCANTES', 'l2': 'ADOCANTE'}\",\n",
       " \"Aerodini 100mcg/ Jato com 200 Doses 1 Tubo Aerossol. Caixa 200 Doses. Categoria: Medicamentos. Taxonomia: {'l0': 'SAUDE_E_BEM_ESTAR', 'l1': 'MEDICAMENTOS', 'l2': 'ALOPATICOS'}\",\n",
       " \"Água Crystal Sem Gás 500ml. Categoria: Bebidas. Taxonomia: {'l0': 'BEBIDAS', 'l1': 'AGUAS_AGUAS_DE_COCO', 'l2': 'AGUA_SEM_GAS'}. Tags: FROSTY\",\n",
       " \"Ração Úmida Sachê Carne Ao Molho para Cães Adultos de Raças Pequenas Pedigree 100g. • Refeição 100% Completa.\\n• Sem conservantes, sem corantes e sem aromas artificiais.\\n• Suculentos pedacinhos cozidos a vapor.\\n• Balanço ideal de fibras.\\n• Proporciona fezes firmes e fáceis de limpar.\\n• Pelo saudável: Contém Ômega 6 e Zinco.. Categoria: Pet Shop. Taxonomia: {'l0': 'PET', 'l1': 'RACAO_ALIMENTACAO', 'l2': 'ALIMENTACAO_CAES'}\",\n",
       " \"Adicional - Strogonoff de Carne. Categoria: Adicionais. Taxonomia: {'l0': 'ALIMENTOS_PREPARADOS', 'l1': 'PRATOS', 'l2': 'ESTROGONOFES'}\",\n",
       " \"Feijoada. Categoria: Prato Do Dia. Taxonomia: {'l0': 'ALIMENTOS_PREPARADOS', 'l1': 'PRATOS', 'l2': 'FEIJOADAS'}\",\n",
       " \"Farofa temperada da casa. Porção pequena de farofa temperada (farinha de mandioca, salsinha, alho e cebola, manteiga e azeite de dendê). Categoria: Itens Adicionais. Taxonomia: {'l0': 'MERCEARIA', 'l1': 'FARINACEOS_AMIDO', 'l2': 'FAROFA'}\",\n",
       " \"30 Salgados Fritos Mistos. 30 deliciosos salgados do seu jeitinho; escolha os sabores e quantidades de cada um.\\nObs: Acompanha um molho de pimenta de 30 ml\\n\\n<<<<<<<<<>>>>>>>>>\\ncoxinha bolinha de queijo croquete kibe salsicha presunto e queijo frango cupom taxa grátis promoção molho. Categoria: Salgados Fritos. Taxonomia: {'l0': 'ALIMENTOS_PREPARADOS', 'l1': 'SALGADINHOS_APERITIVOS', 'l2': 'BOLINHOS_CROQUETES_RISOLES'}. Tags: SERVES_2\",\n",
       " \"Executivo picanha grelhada.. Acompanha: arroz, tutu de feijão ou feijão, salada (alface, cenoura e tomate) e fritas.. Categoria: Executivos. Taxonomia: {'l0': 'ALIMENTOS_PREPARADOS', 'l1': 'PRATOS', 'l2': 'CORTES_BOVINOS'}\",\n",
       " \"Combo D Melt Crispy + Batata Peq + Coca-Cola 350 ml - (2x1) *Promo*. Saboreie nosso Combo D Melt Crispy, que traz um suculento hambúrguer artesanal de costela, cuidadosamente pesando 100 g. Acompanha um generoso queijo do tipo cheddar melt, cebola crispy para um toque crocante, e um envolvente molho bbq. Tudo isso servido em um pão de brioche macio e fresco, com uma camada de maionese especial do chef. Para completar o combo, uma porção de batatas fritas sequinhas e uma Coca-Cola de 350 ml, gelada e refrescante. Uma refeição completa e deliciosa, perfeita para satisfazer os paladares mais exigentes!. Categoria: Pague 1 Leve 2 ( Promo 2x1 ). Taxonomia: {'l0': 'ALIMENTOS_PREPARADOS', 'l1': 'SANDUICHES', 'l2': 'HAMBURGUERES'}\",\n",
       " 'Dog \" Duplo \" Tradicional Completo + Guaraná Antarctica. Dog montado na bandeja, 2 salsichas , ketchup e mostarda, milho, batata palha, purê de Batata cremoso, deliciosa maionese temperada, Farofa de alho frito finalizando com azeitona temperada  \\n\\n* Com todos ingredientes o Seu Hot Dog pesará aproximadamente 600g. Categoria: Promoções Imperdiveis. Taxonomia: {\\'l0\\': \\'ALIMENTOS_PREPARADOS\\', \\'l1\\': \\'SANDUICHES\\', \\'l2\\': \\'HOT_DOGS\\'}. Tags: SERVES_1',\n",
       " \"Marmita Mista Tamanho M + Coca-Cola sem açúcar 350ml. Arroz ,Feijão ,Macarrão ,Bife E Filé De Frango\\n1 Coca-Cola Zero 350ml. Categoria: Combo Coca Cola. Taxonomia: {'l0': 'ALIMENTOS_PREPARADOS', 'l1': 'PRATOS', 'l2': 'OUTROS'}\",\n",
       " \"Suco do Dia - Melancia 500ml. Suco do Dia - Melancia 500ml. Categoria: Suco do Dia e Saladinha de Frutas. Taxonomia: {'l0': 'BEBIDAS', 'l1': 'SUCOS_VITAMINAS_SMOOTHIES', 'l2': 'SUCOS_VITAMINAS_SMOOTHIES'}\",\n",
       " \"Balance. Deliciosa combinação de patinho moído, preparado de forma suculenta. Categoria: Carne Vermelha. Taxonomia: {'l0': 'ALIMENTOS_PREPARADOS', 'l1': 'PRATOS', 'l2': 'CORTES_BOVINOS'}. Tags: SERVES_1\",\n",
       " \"Kibe cru 150g Hortelã e cebola . Não campanha pão sírio.. Categoria: Kibe. Taxonomia: {'l0': 'ALIMENTOS_PREPARADOS', 'l1': 'SALGADINHOS_APERITIVOS', 'l2': 'QUIBES'}\",\n",
       " \"Brookie no Pote. Nosso exclusivo Brookie (uma junção de brownie com cookie) acompanhado com o creme de sua escolha (Pode escolher até 2 sabores de recheio).. Categoria: Brookies. Taxonomia: {'l0': 'ALIMENTOS_PREPARADOS', 'l1': 'BOLOS_TORTAS_FONDUES', 'l2': 'BROWNIES'}\",\n",
       " \"Fralda Geriatrica Confort Eg Tena com 18un. Pacote 18un. Categoria: Higiene e Beleza. Taxonomia: {'l0': 'BELEZA_ESTETICA_HIGIENE_PESSOAL', 'l1': 'HIGIENE_INTIMA', 'l2': 'FRALDA_GERIATRICA'}\",\n",
       " \"Eucerin Aquaphor Pomada Reparadora Intensiva 50g. Embalagem 49g. Categoria: Cuidados com a Pele. Taxonomia: {'l0': 'BELEZA_ESTETICA_HIGIENE_PESSOAL', 'l1': 'CUIDADOS_PELE', 'l2': 'DERMOCOSMETICOS'}\",\n",
       " \"Domperidona 10mg Eurofarma Caixa com 30 Comprimidos. Caixa 30cpr. Categoria: Medicamentos. Taxonomia: {'l0': 'SAUDE_E_BEM_ESTAR', 'l1': 'MEDICAMENTOS', 'l2': 'ALOPATICOS'}\",\n",
       " \"Fórmula Infantil para Lactentes Nestogeno 2 Lata 800g. Categoria: Mamãe e Bebê. Taxonomia: {'l0': 'BEBE', 'l1': 'NUTRICAO_INFANTIL', 'l2': 'FORMULA_INFANTIL'}\",\n",
       " \"Yakissoba Tradicional G 1 Kg. Macarrão chinês, carne, frango, legumes ( acelga, cebola, cenoura, pimentão vermelho, repolho, vagem, brócolis), champignon e molho da casa. Não retiramos nenhum ingrediente, exceto champignon.. Categoria: Yakissoba. Taxonomia: {'l0': 'ALIMENTOS_PREPARADOS', 'l1': 'PRATOS', 'l2': 'YAKISSOBA_LAMENS'}. Tags: SERVES_2\",\n",
       " \"Mini Pão Brioche Soui Australiano 270g. Embalagem 270g. Categoria: Padaria. Taxonomia: {'l0': 'MERCEARIA', 'l1': 'PAES', 'l2': 'OUTROS_PAES'}\",\n",
       " \"Manjericão Vermeulen Embalagem 30g. Embalagem 30g. Categoria: Feira. Taxonomia: {'l0': 'FLV', 'l1': 'TEMPEROS_FRESCOS', 'l2': 'MANJERICAO'}\",\n",
       " \"Coxinha Frango Asa Oba Kg. Compra por peso. Categoria: Carnes, Aves e Peixes. Taxonomia: {'l0': 'MERCEARIA', 'l1': 'ACOUGUE', 'l2': 'AVES'}\",\n",
       " \"Banana   Maçã Kg. Compra por peso. Categoria: Feira. Taxonomia: {'l0': 'FLV', 'l1': 'FRUTAS', 'l2': 'BANANA'}\",\n",
       " \"Panceta Suína Resfriada Kg. Compra por peso. Categoria: Carnes, Aves e Peixes. Taxonomia: {'l0': 'MERCEARIA', 'l1': 'ACOUGUE', 'l2': 'SUINOS'}\",\n",
       " \"Açaí 500ml + 5 complementos inclusos.. Açaí de 500ml do seu jeito! Totalmente sem defeitos! Combine até 5 adicionais entre frutas frescas e coberturas para deixar o açaí perfeito para você! Atenção: O açaí não vem com os itens separados e nem com as frutas batidas ou congeladas, todos os complementos são montados em 3 camadas. Imagens meramente ilustrativas. Não efetuamos substituições de acompanhamentos em itens promocionais.\\nObservação: Não é permitido que o copo seja montado somente com açaí, ao menos 1 adicional deve ser adicionado ao copo.\\nAtenção: O Creme de Avelã é o único adicional cobrado à parte e é contado como um adicional como outro qualquer, ou seja, pedindo o copo com Creme de Avelã, só dá direito a mais 4 (quatro) complementos.. Categoria: Monte do seu Jeito!!!. Taxonomia: {'l0': 'ALIMENTOS_PREPARADOS', 'l1': 'SORVETES_ACAIS_FRUTAS', 'l2': 'ACAIS'}. Tags: SERVES_1\",\n",
       " \"Bento's Gruyere. 160g de Burger de costela, pão artesanal, maionese da casa, queijo  Gruyere, cebola caramelizada, bacon, rúcula e toate cereja.. Categoria: Burger's. Taxonomia: {'l0': 'ALIMENTOS_PREPARADOS', 'l1': 'SANDUICHES', 'l2': 'HAMBURGUERES'}. Tags: SERVES_1\",\n",
       " \"X salada. Pao, hanburguer de 90 gr, queijo, alface, tomate, molho especial. Categoria: Lanches. Taxonomia: {'l0': 'ALIMENTOS_PREPARADOS', 'l1': 'SANDUICHES', 'l2': 'HAMBURGUERES'}\",\n",
       " \"Cheiro Verde Higienizado La Vita 60g. Pacote 60g. Categoria: Feira. Taxonomia: {'l0': 'FLV', 'l1': 'TEMPEROS_FRESCOS', 'l2': 'OUTROS'}\",\n",
       " \"Pedra Sanitária de Lavanda Harpic Oferta 25g. Embalagem 25g. Categoria: Limpeza. Taxonomia: {'l0': 'CASA_DECORACAO', 'l1': 'LIMPEZA_CASA', 'l2': 'PRODUTOS_LIMPEZA_CASA'}\",\n",
       " \"Medalhão de Filé Mignon Qualitá Kg. Compra por peso. Categoria: Carnes, Aves e Peixes. Taxonomia: {'l0': 'MERCEARIA', 'l1': 'ACOUGUE', 'l2': 'BOVINOS'}\",\n",
       " \"Pão de Alho Bolinha Zinho 300g. Embalagem 300g. Categoria: Congelados e Resfriados. Taxonomia: {'l0': 'MERCEARIA', 'l1': 'PAES', 'l2': 'PAO_DE_ALHO'}\",\n",
       " \"Iogurte Light Sabor Morango Danone Grego 510g com 6un. Bandeja 6un. Categoria: Iogurtes. Taxonomia: {'l0': 'FRIOS_LATICINIOS', 'l1': 'IOGURTES_E_FERMENTADOS', 'l2': 'COM_SABORES'}\",\n",
       " \"Absorvente Externo Adapt com Abas Suave Sempre Livre 16un. Embalagem 16un. Categoria: Higiene e Cuidados Pessoais. Taxonomia: {'l0': 'BELEZA_ESTETICA_HIGIENE_PESSOAL', 'l1': 'HIGIENE_INTIMA', 'l2': 'ABSORVENTE_EXTERNO'}\",\n",
       " \"Copo Descartável Qualitá 300ml com 50 Unidades. Embalagem 50un. Categoria: Utensílios para o Lar. Taxonomia: {'l0': 'CASA_DECORACAO', 'l1': 'COZINHA', 'l2': 'EMBALAGENS_DESCARTAVEIS'}\",\n",
       " \"Cerveja Sleek Ultra Michelob 350ml. Produto para maiores de 18 anos. Categoria: Bebidas Alcoólicas. Taxonomia: {'l0': 'BEBIDAS', 'l1': 'CERVEJAS', 'l2': 'CERVEJAS_TRADICIONAIS'}. Tags: ALCOHOLIC_DRINK\",\n",
       " \"Chocolote Shake de Caramelo Salgado Hershey's 77g. Categoria: Doces e Sobremesas. Taxonomia: {'l0': 'ALIMENTOS_PREPARADOS', 'l1': 'SORVETES_ACAIS_FRUTAS', 'l2': 'MILK_SHAKES'}\",\n",
       " \"Pão Bisnaga Artesano Pullman 300g. Embalagem 300g. Categoria: Padaria. Taxonomia: {'l0': 'MERCEARIA', 'l1': 'PAES', 'l2': 'BISNAGUINHAS'}\",\n",
       " \"Açaí Original Frooty 700ml. Embalagem 700ml. Categoria: Doces e Sobremesas. Taxonomia: {'l0': 'OUTROS', 'l1': 'OUTROS', 'l2': 'OUTROS'}\",\n",
       " \"Peito de Frango Defumado Fatiado Ceratti 100g. Embalagem 100g. Categoria: Frios e Laticínios. Taxonomia: {'l0': 'FRIOS_LATICINIOS', 'l1': 'FRIOS', 'l2': 'OUTROS'}\",\n",
       " \"Azeite de Oliva Italiano Extra Virgem Costa D'oro 250ml. Vidro 250ml. Categoria: Alimentos Básicos. Taxonomia: {'l0': 'MERCEARIA', 'l1': 'OLEOS_AZEITES_VINAGRES', 'l2': 'AZEITE'}\",\n",
       " \"Cerveja Delirium Nocturnum Garrafa 330ml. Produto para maiores de 18 anos. Categoria: Bebidas Alcoólicas. Taxonomia: {'l0': 'BEBIDAS', 'l1': 'CERVEJAS', 'l2': 'CERVEJAS_TRADICIONAIS'}. Tags: ALCOHOLIC_DRINK\",\n",
       " \"Água Sem Gás 500ml. Categoria: Bebidas. Taxonomia: {'l0': 'BEBIDAS', 'l1': 'AGUAS_AGUAS_DE_COCO', 'l2': 'AGUA_SEM_GAS'}\",\n",
       " \"Fanta Uva 350ml. Lata 350ml. Categoria: Bebidas. Taxonomia: {'l0': 'BEBIDAS', 'l1': 'REFRIGERANTES', 'l2': 'REFRIGERANTE_SABORES'}\",\n",
       " \"Snickers Dark 42g. Unidade 42g. Categoria: Doces e Sobremesas. Taxonomia: {'l0': 'BOMBONIERE', 'l1': 'CHOCOLATES', 'l2': 'BARRAS'}\",\n",
       " \"Salada. Este não é um simples hambúrguer, é uma verdadeira obra-prima culinária. Encapsulado em um pão brioche fresco e dourado, encontra-se um suculento hambúrguer de 150g, meticulosamente preparado para atingir a perfeição. Coberto com uma generosa camada de queijo cheddar derretido, cada mordida promete uma explosão de sabor inigualável. O toque final é dado pelo frescor crocante da alface e a doçura natural do tomate. Uma combinação harmoniosa que transforma cada mordida em uma experiência gastronômica única. Aprecie o melhor da categoria 'Burger Deliciosos' com a nossa Salada.. Categoria: Burgers Deliciosos. Taxonomia: {'l0': 'ALIMENTOS_PREPARADOS', 'l1': 'SANDUICHES', 'l2': 'HAMBURGUERES'}\",\n",
       " \"Ração Úmida Sachê Carne Ao Molho para Cães Adultos de Raças Pequenas Pedigree 100g. • Refeição 100% Completa.\\n• Sem conservantes, sem corantes e sem aromas artificiais.\\n• Suculentos pedacinhos cozidos a vapor.\\n• Balanço ideal de fibras.\\n• Proporciona fezes firmes e fáceis de limpar.\\n• Pelo saudável: Contém Ômega 6 e Zinco.. Categoria: Pet Shop. Taxonomia: {'l0': 'PET', 'l1': 'RACAO_ALIMENTACAO', 'l2': 'ALIMENTACAO_CAES'}\",\n",
       " \"Bebida Láctea Frappuccino Caramelo Starbucks 280ml. Categoria: Matinais. Taxonomia: {'l0': 'BEBIDAS', 'l1': 'BEBIDAS_LACTEAS_E_DE_SOJA', 'l2': 'BEBIDA_SABORES'}\",\n",
       " \"Amendoim Salgado Ovinhos de Amendoim  Elma Chips 145g. Categoria: Biscoitos e Salgadinhos. Taxonomia: {'l0': 'ALIMENTOS_PREPARADOS', 'l1': 'SALGADINHOS_APERITIVOS', 'l2': 'OUTROS'}\",\n",
       " \"Batata Chips Ondulada Sabor Churrasco Ruffles 68g. Categoria: Biscoitos e Salgadinhos. Taxonomia: {'l0': 'MERCEARIA', 'l1': 'BISCOITOS_SNACKS', 'l2': 'SNACKS'}\",\n",
       " \"Lanche de Linguiça Especial. Desfrute do nosso 'Lanche de Linguiça Especial', uma combinação perfeitamente harmonizada de linguiça saborosamente aberta, alface fresca e crocante, vinagrete suculento e apetitoso, cream cheese cremoso e indulgente, mussarela derretida e aconchegante, tudo envolvido em sua escolha de um pão francês crocante e dourado ou um pão de hambúrguer macio e esponjoso. Esta é a refeição perfeita para satisfazer a sua fome e despertar os seus sentidos. Uma delícia da categoria 'Lanches' que promete uma explosão de sabor a cada mordida!. Categoria: Lanches. Taxonomia: {'l0': 'ALIMENTOS_PREPARADOS', 'l1': 'SANDUICHES', 'l2': 'HAMBURGUERES'}\",\n",
       " \"Hot-dog Calabresa - Bandeja. Descubra o sabor irresistível do nosso 'Hot-dog Calabresa - Bandeja'. Uma combinação perfeita de duas salsichas suculentas, cobertas por fatias de calabresa defumada e crocante. O colorido e a doçura do milho  contrastam com o toque ácido do nosso vinagrete caseiro. O sabor marcante da mostarda, o adocicado do ketchup e a cremosidade da maionese se misturam de forma harmônica, realçando ainda mais o sabor do prato. Para finalizar, um generoso purê de batatas e uma porção de batata palha crocante que adiciona uma textura única. Tudo isso servido em uma conveniente bandeja, para que você possa apreciar onde e como quiser.. Categoria: Hot-Dog na Bandeja. Taxonomia: {'l0': 'ALIMENTOS_PREPARADOS', 'l1': 'SANDUICHES', 'l2': 'HOT_DOGS'}\",\n",
       " \"Vodka Askov Frutas Vermelhas Garrafa 900ml. Produto para maiores de 18 anos. Categoria: Drinks Prontos/Vodkas. Taxonomia: {'l0': 'BEBIDAS', 'l1': 'DESTILADOS', 'l2': 'VODKA'}. Tags: ALCOHOLIC_DRINK, FROSTY\",\n",
       " \"Combo Chutoro. 2 Temakis, 15 Sashimi, 10 Uramaki, 8 Hossomaki, 6 Niguiri, 4 Luizinho Salmão 10 Uni De Hot.. Categoria: Combos Da Semana. Taxonomia: {'l0': 'ALIMENTOS_PREPARADOS', 'l1': 'PRATOS', 'l2': 'SUSHIS_SASHIMIS_TEMAKIS'}. Tags: SERVES_2\",\n",
       " \"Frango ao creme de palmito (Empanado). Marmita média de Frango a milanesa com creme de palmito (Empanado). Contém: Arroz branco, feijão carioca, farofa da casa, saladinha do Dia separada e um acompanhamento a sua escolha.. Categoria: Sugestão Da Chef. Taxonomia: {'l0': 'ALIMENTOS_PREPARADOS', 'l1': 'PRATOS', 'l2': 'CORTES_DE_AVES'}. Tags: SERVES_1\",\n",
       " \"Calabresa Acebolada. Arroz + Feijão + Batata Frita + Salada de Alface Americana com Tomate \\nLinguiça Calabresa Acebolada ( aprox 120g).. Categoria: # Pratos Executivos # pause. Taxonomia: {'l0': 'ALIMENTOS_PREPARADOS', 'l1': 'PRATOS', 'l2': 'CORTES_SUINOS'}. Tags: SERVES_1\",\n",
       " \"Suco de Maçã Yakult 200ml. Embalagem 200ml. Categoria: Bebidas. Taxonomia: {'l0': 'BEBIDAS', 'l1': 'SUCOS_VITAMINAS_SMOOTHIES', 'l2': 'SUCOS_VITAMINAS_SMOOTHIES'}\",\n",
       " \"26 - frango, queijo, milho, Catupiry, presunto, salada. Categoria: Filé de frango. Taxonomia: {'l0': 'ALIMENTOS_PREPARADOS', 'l1': 'PRATOS', 'l2': 'CORTES_DE_AVES'}\",\n",
       " \"Óleo Extraordinário L'oréal Elseve L'oréal Paris 100ml. Embalagem 100ml. Categoria: Cuidados com o Cabelo. Taxonomia: {'l0': 'BELEZA_ESTETICA_HIGIENE_PESSOAL', 'l1': 'CUIDADOS_CABELO', 'l2': 'HIDRATACAO_TRATAMENTO_CAPILAR'}\",\n",
       " \"Sal de Fruta Tradicional Eno 100g. Embalagem 100g. Categoria: Medicamentos. Taxonomia: {'l0': 'MERCEARIA', 'l1': 'OUTROS', 'l2': 'OUTROS'}\",\n",
       " \"Ibuflex 400mg Legrand Caixa com 8 Cápsulas Gelatinosas Moles. Caixa 8cps. Categoria: Medicamentos. Taxonomia: {'l0': 'SAUDE_E_BEM_ESTAR', 'l1': 'MEDICAMENTOS', 'l2': 'ALOPATICOS'}\",\n",
       " \"Base para Unhas Seda Base Óleo de Orquídeas Risqué 8ml. Embalagem 8ml. Categoria: Higiene e Beleza. Taxonomia: {'l0': 'BELEZA_ESTETICA_HIGIENE_PESSOAL', 'l1': 'ESMALTERIA', 'l2': 'ESMALTES_BASES'}\",\n",
       " \"X Bacon. Pão de hambúrguer, hamburguer de 100g, queijo prato e bacon. Categoria: Lanches tradicionais. Taxonomia: {'l0': 'ALIMENTOS_PREPARADOS', 'l1': 'SANDUICHES', 'l2': 'HAMBURGUERES'}. Tags: SERVES_1\",\n",
       " \"Super Combos 100 mini Salgados + Refri Coca Cola 2l. Super Combos 100 mini Salgados + Refri Coca Cola 2l. Categoria: Mini salgados. Taxonomia: {'l0': 'ALIMENTOS_PREPARADOS', 'l1': 'SALGADINHOS_APERITIVOS', 'l2': 'OUTROS'}. Tags: SERVES_4\",\n",
       " \"Mini Burger Caprese. Dois mini pāes brioche, mini hgmbúrguer (160g) gratinado com tomate e queijo parmesão, alface americana, tomate seco, maionese artesanal e pesto de manjericão. Acompanham batatas fritas.. Categoria: Novos Petiscos Camarada. Taxonomia: {'l0': 'ALIMENTOS_PREPARADOS', 'l1': 'SANDUICHES', 'l2': 'HAMBURGUERES'}\",\n",
       " \"Chicken Méqui Box - 3 Mcofertas Médias. São 3 Mcofertas para você compartilhar com quem preferir #Méquinosofá. Escolha 3 (três) sanduíches entre as opções: McChicken, McChicken Bacon, Mccrispy Chicken Deluxe, Mccrispy Chicken Legend ou Mccrispy Chicken Melt & Bacon, 3 (três) McFritas Médias e 3 (três) Bebidas. Categoria: Promoções. Taxonomia: {'l0': 'ALIMENTOS_PREPARADOS', 'l1': 'SANDUICHES', 'l2': 'HAMBURGUERES'}\",\n",
       " \"Filet de frango infantil. Arroz e fritas.  (p/1 pessoa). Categoria: Infantil. Taxonomia: {'l0': 'ALIMENTOS_PREPARADOS', 'l1': 'PRATOS', 'l2': 'CORTES_DE_AVES'}. Tags: SERVES_1\",\n",
       " \"Batata Ondulada Sour Cream E Cebola Em Tubo Ruffles 100g. Categoria: Biscoitos e Salgadinhos. Taxonomia: {'l0': 'MERCEARIA', 'l1': 'BISCOITOS_SNACKS', 'l2': 'SNACKS'}\",\n",
       " \"Batata Chips Sabor Original Ruffles 68g. Categoria: Biscoitos e Salgadinhos. Taxonomia: {'l0': 'MERCEARIA', 'l1': 'BISCOITOS_SNACKS', 'l2': 'SNACKS'}\"]"
      ]
     },
     "execution_count": 14,
     "metadata": {},
     "output_type": "execute_result"
    }
   ],
   "source": [
    "data[\"full_text\"].head(140).tolist()"
   ]
  },
  {
   "cell_type": "code",
   "execution_count": 15,
   "id": "96bb7e98",
   "metadata": {},
   "outputs": [
    {
     "name": "stdout",
     "output_type": "stream",
     "text": [
      "NOT_APPLICABLE: 2382\n",
      "SERVES_1: 386\n",
      "ALCOHOLIC_DRINK: 121\n",
      "SERVES_2: 90\n",
      "FROSTY: 88\n",
      "VEGETARIAN: 52\n",
      "SERVES_4: 51\n",
      "SUGAR_FREE: 38\n",
      "SERVES_3: 28\n",
      "LAC_FREE: 28\n",
      "VEGAN: 25\n",
      "NATURAL: 17\n",
      "ORGANIC: 16\n",
      "GRANDE: 12\n",
      "GLUTEN_FREE: 9\n",
      "DIET: 4\n",
      "PEQUENA: 4\n",
      "MÉDIA: 3\n",
      "ZERO: 1\n",
      "MEDIA: 1\n"
     ]
    }
   ],
   "source": [
    "# Show the top 20 most common tag values\n",
    "for tag_value, count in tag_value_counter.most_common(20):\n",
    "    print(f\"{tag_value}: {count}\")\n"
   ]
  },
  {
   "cell_type": "code",
   "execution_count": 16,
   "id": "308638ed",
   "metadata": {},
   "outputs": [],
   "source": [
    "data.to_csv(\"cleaned_items_with_metadata.csv\", index=False)"
   ]
  },
  {
   "cell_type": "code",
   "execution_count": 17,
   "id": "9bcb5b58",
   "metadata": {},
   "outputs": [
    {
     "name": "stdout",
     "output_type": "stream",
     "text": [
      "Number of items containing 'pizza': 98\n"
     ]
    }
   ],
   "source": [
    "# check if full text contains anything with pizza\n",
    "pizza_items = data[data[\"full_text\"].str.contains(\"pizza\", case=False, na=False)]\n",
    "pizza_items_count = pizza_items.shape[0]\n",
    "print(f\"Number of items containing 'pizza': {pizza_items_count}\")"
   ]
  },
  {
   "cell_type": "code",
   "execution_count": 18,
   "id": "85bfad11",
   "metadata": {},
   "outputs": [
    {
     "data": {
      "text/html": [
       "<div>\n",
       "<style scoped>\n",
       "    .dataframe tbody tr th:only-of-type {\n",
       "        vertical-align: middle;\n",
       "    }\n",
       "\n",
       "    .dataframe tbody tr th {\n",
       "        vertical-align: top;\n",
       "    }\n",
       "\n",
       "    .dataframe thead th {\n",
       "        text-align: right;\n",
       "    }\n",
       "</style>\n",
       "<table border=\"1\" class=\"dataframe\">\n",
       "  <thead>\n",
       "    <tr style=\"text-align: right;\">\n",
       "      <th></th>\n",
       "      <th>_id</th>\n",
       "      <th>itemId</th>\n",
       "      <th>itemMetadata</th>\n",
       "      <th>itemProfile</th>\n",
       "      <th>merchantId</th>\n",
       "      <th>full_text</th>\n",
       "    </tr>\n",
       "  </thead>\n",
       "  <tbody>\n",
       "    <tr>\n",
       "      <th>31</th>\n",
       "      <td>6813b2b6b7476b2ec454b81e</td>\n",
       "      <td>e9d4d659-d7fa-3730-8922-ae2d9ee80a59</td>\n",
       "      <td>{\"category_name\":\"Pizza Salgada 8 Pedaços\",\"de...</td>\n",
       "      <td>{\"metrics\":{\"avgBasketPrice\":96.17,\"coPurchase...</td>\n",
       "      <td>d93225d2-dfca-4296-95bf-c8026f655b7d</td>\n",
       "      <td>MÉDIA 2 SABORES (8 PEDAÇOS). Categoria: Pizza ...</td>\n",
       "    </tr>\n",
       "    <tr>\n",
       "      <th>34</th>\n",
       "      <td>6813b2b6b7476b2ec454b821</td>\n",
       "      <td>ff4ad960-3d32-4615-aaf0-d85cef593bb2</td>\n",
       "      <td>{\"category_name\":\"Pizzas com 2 Sabores da sua ...</td>\n",
       "      <td>{\"metrics\":{\"avgBasketPrice\":63.61,\"coPurchase...</td>\n",
       "      <td>d9d10684-a428-4d48-adbb-238f2e264621</td>\n",
       "      <td>Pizzas Doce 20cm (4 fatias) 2 Sabores. Seja o ...</td>\n",
       "    </tr>\n",
       "    <tr>\n",
       "      <th>35</th>\n",
       "      <td>6813b2b7b7476b2ec454b822</td>\n",
       "      <td>58141193-51d1-4a91-9e33-b7693da941b3</td>\n",
       "      <td>{\"category_name\":\"Pizzas Promocionais!\",\"descr...</td>\n",
       "      <td>{\"metrics\":{\"avgBasketPrice\":118.89,\"coPurchas...</td>\n",
       "      <td>da478470-b5b1-4e83-a0fa-09b64afe90d5</td>\n",
       "      <td>Pizza Promo. Brócolis c/ Catupiry e Bacon. Piz...</td>\n",
       "    </tr>\n",
       "    <tr>\n",
       "      <th>157</th>\n",
       "      <td>6813b2bcb7476b2ec454b89c</td>\n",
       "      <td>eb0dc279-8d48-43ed-b14b-cf985fbf5177</td>\n",
       "      <td>{\"category_name\":\"Pizzas 8 pedaços\",\"descripti...</td>\n",
       "      <td>{\"metrics\":{\"avgBasketPrice\":95.89,\"coPurchase...</td>\n",
       "      <td>e82c4421-e9c1-44ec-8ade-c7c0d667a709</td>\n",
       "      <td>Frango c/ Catupiry. Mussarela, frango, Catupir...</td>\n",
       "    </tr>\n",
       "    <tr>\n",
       "      <th>160</th>\n",
       "      <td>6813b2bcb7476b2ec454b89f</td>\n",
       "      <td>cf8c4f00-f25d-4916-93f8-3c5d21457c13</td>\n",
       "      <td>{\"category_name\":\"Super Promo Lavaredo (08 Ped...</td>\n",
       "      <td>{\"metrics\":{\"avgBasketPrice\":177.18,\"coPurchas...</td>\n",
       "      <td>e888f3e3-b8b5-48b7-97f8-1fafbbd0c376</td>\n",
       "      <td>Abruzzo. Molho de tomate, mussarela, nozes, pa...</td>\n",
       "    </tr>\n",
       "    <tr>\n",
       "      <th>260</th>\n",
       "      <td>6813b2c1b7476b2ec454b903</td>\n",
       "      <td>368e78c7-a171-4b87-85a7-52d12976b8cc</td>\n",
       "      <td>{\"category_name\":\"Pizzas Salgadas + Borda Grát...</td>\n",
       "      <td>{\"metrics\":{\"avgBasketPrice\":55.95,\"coPurchase...</td>\n",
       "      <td>f244bb0f-7fe5-41dc-b09a-62e76ab0268b</td>\n",
       "      <td>Brotinho (4 Pedaços). Experimente nossos delic...</td>\n",
       "    </tr>\n",
       "    <tr>\n",
       "      <th>267</th>\n",
       "      <td>6813b2c1b7476b2ec454b90a</td>\n",
       "      <td>b395c859-d99c-3b78-b559-f276857f2a6d</td>\n",
       "      <td>{\"category_name\":\"Pizzas tradicionais\",\"descri...</td>\n",
       "      <td>{\"metrics\":{\"avgBasketPrice\":71.0,\"coPurchaseI...</td>\n",
       "      <td>f34dafe7-0d7a-44cf-9087-1307d1df4d10</td>\n",
       "      <td>GRANDE 3 SABORES (8 PEDAÇOS). Categoria: Pizza...</td>\n",
       "    </tr>\n",
       "    <tr>\n",
       "      <th>269</th>\n",
       "      <td>6813b2c1b7476b2ec454b90c</td>\n",
       "      <td>5d85ee83-a364-4424-9198-d366aa643f99</td>\n",
       "      <td>{\"category_name\":\"Combos de Esfihas e Pizzas +...</td>\n",
       "      <td>{\"metrics\":{\"avgBasketPrice\":140.88,\"coPurchas...</td>\n",
       "      <td>f3c21890-fb8d-4c25-b818-9745604a7d97</td>\n",
       "      <td>Combo de Esfihas Nº01 (10 Esfiha de Carne + 10...</td>\n",
       "    </tr>\n",
       "    <tr>\n",
       "      <th>446</th>\n",
       "      <td>6813b2c9b7476b2ec454b9bd</td>\n",
       "      <td>8934cbe3-afe9-4835-bddd-a3a006691b96</td>\n",
       "      <td>{\"category_name\":\"Promoção do Dia (Pizza Grand...</td>\n",
       "      <td>{\"metrics\":{\"avgBasketPrice\":58.99,\"coPurchase...</td>\n",
       "      <td>0085f031-2bbc-443c-862f-30d1996ec01a</td>\n",
       "      <td>Pizza Brócolis (8 pedaços). Ingredientes: Muss...</td>\n",
       "    </tr>\n",
       "    <tr>\n",
       "      <th>509</th>\n",
       "      <td>6813b2ccb7476b2ec454b9fc</td>\n",
       "      <td>174f921c-f22b-46aa-9d40-afbe9e9721de</td>\n",
       "      <td>{\"category_name\":\"Promoções\",\"description\":\"Pi...</td>\n",
       "      <td>{\"metrics\":{\"avgBasketPrice\":77.35,\"coPurchase...</td>\n",
       "      <td>040346c1-8062-4b22-8ee1-df3cca68a0ee</td>\n",
       "      <td>Promo Meio a Meio Marguerita Clássica ou Calab...</td>\n",
       "    </tr>\n",
       "  </tbody>\n",
       "</table>\n",
       "</div>"
      ],
      "text/plain": [
       "                          _id                                itemId  \\\n",
       "31   6813b2b6b7476b2ec454b81e  e9d4d659-d7fa-3730-8922-ae2d9ee80a59   \n",
       "34   6813b2b6b7476b2ec454b821  ff4ad960-3d32-4615-aaf0-d85cef593bb2   \n",
       "35   6813b2b7b7476b2ec454b822  58141193-51d1-4a91-9e33-b7693da941b3   \n",
       "157  6813b2bcb7476b2ec454b89c  eb0dc279-8d48-43ed-b14b-cf985fbf5177   \n",
       "160  6813b2bcb7476b2ec454b89f  cf8c4f00-f25d-4916-93f8-3c5d21457c13   \n",
       "260  6813b2c1b7476b2ec454b903  368e78c7-a171-4b87-85a7-52d12976b8cc   \n",
       "267  6813b2c1b7476b2ec454b90a  b395c859-d99c-3b78-b559-f276857f2a6d   \n",
       "269  6813b2c1b7476b2ec454b90c  5d85ee83-a364-4424-9198-d366aa643f99   \n",
       "446  6813b2c9b7476b2ec454b9bd  8934cbe3-afe9-4835-bddd-a3a006691b96   \n",
       "509  6813b2ccb7476b2ec454b9fc  174f921c-f22b-46aa-9d40-afbe9e9721de   \n",
       "\n",
       "                                          itemMetadata  \\\n",
       "31   {\"category_name\":\"Pizza Salgada 8 Pedaços\",\"de...   \n",
       "34   {\"category_name\":\"Pizzas com 2 Sabores da sua ...   \n",
       "35   {\"category_name\":\"Pizzas Promocionais!\",\"descr...   \n",
       "157  {\"category_name\":\"Pizzas 8 pedaços\",\"descripti...   \n",
       "160  {\"category_name\":\"Super Promo Lavaredo (08 Ped...   \n",
       "260  {\"category_name\":\"Pizzas Salgadas + Borda Grát...   \n",
       "267  {\"category_name\":\"Pizzas tradicionais\",\"descri...   \n",
       "269  {\"category_name\":\"Combos de Esfihas e Pizzas +...   \n",
       "446  {\"category_name\":\"Promoção do Dia (Pizza Grand...   \n",
       "509  {\"category_name\":\"Promoções\",\"description\":\"Pi...   \n",
       "\n",
       "                                           itemProfile  \\\n",
       "31   {\"metrics\":{\"avgBasketPrice\":96.17,\"coPurchase...   \n",
       "34   {\"metrics\":{\"avgBasketPrice\":63.61,\"coPurchase...   \n",
       "35   {\"metrics\":{\"avgBasketPrice\":118.89,\"coPurchas...   \n",
       "157  {\"metrics\":{\"avgBasketPrice\":95.89,\"coPurchase...   \n",
       "160  {\"metrics\":{\"avgBasketPrice\":177.18,\"coPurchas...   \n",
       "260  {\"metrics\":{\"avgBasketPrice\":55.95,\"coPurchase...   \n",
       "267  {\"metrics\":{\"avgBasketPrice\":71.0,\"coPurchaseI...   \n",
       "269  {\"metrics\":{\"avgBasketPrice\":140.88,\"coPurchas...   \n",
       "446  {\"metrics\":{\"avgBasketPrice\":58.99,\"coPurchase...   \n",
       "509  {\"metrics\":{\"avgBasketPrice\":77.35,\"coPurchase...   \n",
       "\n",
       "                               merchantId  \\\n",
       "31   d93225d2-dfca-4296-95bf-c8026f655b7d   \n",
       "34   d9d10684-a428-4d48-adbb-238f2e264621   \n",
       "35   da478470-b5b1-4e83-a0fa-09b64afe90d5   \n",
       "157  e82c4421-e9c1-44ec-8ade-c7c0d667a709   \n",
       "160  e888f3e3-b8b5-48b7-97f8-1fafbbd0c376   \n",
       "260  f244bb0f-7fe5-41dc-b09a-62e76ab0268b   \n",
       "267  f34dafe7-0d7a-44cf-9087-1307d1df4d10   \n",
       "269  f3c21890-fb8d-4c25-b818-9745604a7d97   \n",
       "446  0085f031-2bbc-443c-862f-30d1996ec01a   \n",
       "509  040346c1-8062-4b22-8ee1-df3cca68a0ee   \n",
       "\n",
       "                                             full_text  \n",
       "31   MÉDIA 2 SABORES (8 PEDAÇOS). Categoria: Pizza ...  \n",
       "34   Pizzas Doce 20cm (4 fatias) 2 Sabores. Seja o ...  \n",
       "35   Pizza Promo. Brócolis c/ Catupiry e Bacon. Piz...  \n",
       "157  Frango c/ Catupiry. Mussarela, frango, Catupir...  \n",
       "160  Abruzzo. Molho de tomate, mussarela, nozes, pa...  \n",
       "260  Brotinho (4 Pedaços). Experimente nossos delic...  \n",
       "267  GRANDE 3 SABORES (8 PEDAÇOS). Categoria: Pizza...  \n",
       "269  Combo de Esfihas Nº01 (10 Esfiha de Carne + 10...  \n",
       "446  Pizza Brócolis (8 pedaços). Ingredientes: Muss...  \n",
       "509  Promo Meio a Meio Marguerita Clássica ou Calab...  "
      ]
     },
     "execution_count": 18,
     "metadata": {},
     "output_type": "execute_result"
    }
   ],
   "source": [
    "pizza_items.head(10)"
   ]
  },
  {
   "cell_type": "code",
   "execution_count": null,
   "id": "d0d01309",
   "metadata": {},
   "outputs": [],
   "source": []
  }
 ],
 "metadata": {
  "kernelspec": {
   "display_name": "ml_env",
   "language": "python",
   "name": "python3"
  },
  "language_info": {
   "codemirror_mode": {
    "name": "ipython",
    "version": 3
   },
   "file_extension": ".py",
   "mimetype": "text/x-python",
   "name": "python",
   "nbconvert_exporter": "python",
   "pygments_lexer": "ipython3",
   "version": "3.12.2"
  }
 },
 "nbformat": 4,
 "nbformat_minor": 5
}
